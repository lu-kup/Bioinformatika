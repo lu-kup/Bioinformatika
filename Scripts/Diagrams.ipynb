{
 "cells": [
  {
   "cell_type": "code",
   "execution_count": 2,
   "id": "79184014-f2a3-433f-8ddd-f89695af3152",
   "metadata": {},
   "outputs": [
    {
     "data": {
      "text/html": [
       "<div>\n",
       "<style scoped>\n",
       "    .dataframe tbody tr th:only-of-type {\n",
       "        vertical-align: middle;\n",
       "    }\n",
       "\n",
       "    .dataframe tbody tr th {\n",
       "        vertical-align: top;\n",
       "    }\n",
       "\n",
       "    .dataframe thead th {\n",
       "        text-align: right;\n",
       "    }\n",
       "</style>\n",
       "<table border=\"1\" class=\"dataframe\">\n",
       "  <thead>\n",
       "    <tr style=\"text-align: right;\">\n",
       "      <th></th>\n",
       "      <th>seqnames</th>\n",
       "      <th>start</th>\n",
       "      <th>end</th>\n",
       "      <th>CG_ID</th>\n",
       "      <th>TT_S0</th>\n",
       "      <th>TT_S1</th>\n",
       "      <th>TT_S2</th>\n",
       "      <th>predict_state_SUM</th>\n",
       "    </tr>\n",
       "  </thead>\n",
       "  <tbody>\n",
       "    <tr>\n",
       "      <th>871479</th>\n",
       "      <td>18</td>\n",
       "      <td>3000019</td>\n",
       "      <td>3000019</td>\n",
       "      <td>18_3000019</td>\n",
       "      <td>0.0</td>\n",
       "      <td>0.0</td>\n",
       "      <td>0.0</td>\n",
       "      <td>6</td>\n",
       "    </tr>\n",
       "    <tr>\n",
       "      <th>871482</th>\n",
       "      <td>18</td>\n",
       "      <td>3000023</td>\n",
       "      <td>3000023</td>\n",
       "      <td>18_3000023</td>\n",
       "      <td>0.0</td>\n",
       "      <td>0.0</td>\n",
       "      <td>0.0</td>\n",
       "      <td>7</td>\n",
       "    </tr>\n",
       "    <tr>\n",
       "      <th>871484</th>\n",
       "      <td>18</td>\n",
       "      <td>3000025</td>\n",
       "      <td>3000025</td>\n",
       "      <td>18_3000025</td>\n",
       "      <td>0.0</td>\n",
       "      <td>0.0</td>\n",
       "      <td>0.0</td>\n",
       "      <td>7</td>\n",
       "    </tr>\n",
       "    <tr>\n",
       "      <th>871492</th>\n",
       "      <td>18</td>\n",
       "      <td>3000040</td>\n",
       "      <td>3000040</td>\n",
       "      <td>18_3000040</td>\n",
       "      <td>4.0</td>\n",
       "      <td>0.0</td>\n",
       "      <td>0.0</td>\n",
       "      <td>10</td>\n",
       "    </tr>\n",
       "    <tr>\n",
       "      <th>871502</th>\n",
       "      <td>18</td>\n",
       "      <td>3000066</td>\n",
       "      <td>3000066</td>\n",
       "      <td>18_3000066</td>\n",
       "      <td>0.0</td>\n",
       "      <td>0.0</td>\n",
       "      <td>0.0</td>\n",
       "      <td>10</td>\n",
       "    </tr>\n",
       "  </tbody>\n",
       "</table>\n",
       "</div>"
      ],
      "text/plain": [
       "       seqnames    start      end       CG_ID  TT_S0  TT_S1  TT_S2  \\\n",
       "871479       18  3000019  3000019  18_3000019    0.0    0.0    0.0   \n",
       "871482       18  3000023  3000023  18_3000023    0.0    0.0    0.0   \n",
       "871484       18  3000025  3000025  18_3000025    0.0    0.0    0.0   \n",
       "871492       18  3000040  3000040  18_3000040    4.0    0.0    0.0   \n",
       "871502       18  3000066  3000066  18_3000066    0.0    0.0    0.0   \n",
       "\n",
       "        predict_state_SUM  \n",
       "871479                  6  \n",
       "871482                  7  \n",
       "871484                  7  \n",
       "871492                 10  \n",
       "871502                 10  "
      ]
     },
     "execution_count": 2,
     "metadata": {},
     "output_type": "execute_result"
    }
   ],
   "source": [
    "import pandas as pd\n",
    "\n",
    "df = pd.read_pickle(\"../Data/out.pkl\")\n",
    "\n",
    "df.head()\n"
   ]
  },
  {
   "cell_type": "code",
   "execution_count": 3,
   "id": "6f5dd8d4",
   "metadata": {},
   "outputs": [],
   "source": [
    "# Constants\n",
    "\n",
    "CHROMOSOME_18_BP = 90720763"
   ]
  },
  {
   "cell_type": "code",
   "execution_count": 4,
   "id": "ced54be2",
   "metadata": {},
   "outputs": [
    {
     "name": "stdout",
     "output_type": "stream",
     "text": [
      "3000019\n"
     ]
    }
   ],
   "source": [
    "print(df['start'].min())"
   ]
  },
  {
   "cell_type": "code",
   "execution_count": 5,
   "id": "d94dea95",
   "metadata": {},
   "outputs": [
    {
     "data": {
      "text/html": [
       "<div>\n",
       "<style scoped>\n",
       "    .dataframe tbody tr th:only-of-type {\n",
       "        vertical-align: middle;\n",
       "    }\n",
       "\n",
       "    .dataframe tbody tr th {\n",
       "        vertical-align: top;\n",
       "    }\n",
       "\n",
       "    .dataframe thead th {\n",
       "        text-align: right;\n",
       "    }\n",
       "</style>\n",
       "<table border=\"1\" class=\"dataframe\">\n",
       "  <thead>\n",
       "    <tr style=\"text-align: right;\">\n",
       "      <th></th>\n",
       "      <th>seqnames</th>\n",
       "      <th>start</th>\n",
       "      <th>end</th>\n",
       "      <th>CG_ID</th>\n",
       "      <th>TT_S0</th>\n",
       "      <th>TT_S1</th>\n",
       "      <th>TT_S2</th>\n",
       "      <th>predict_state_SUM</th>\n",
       "    </tr>\n",
       "    <tr>\n",
       "      <th>Majority</th>\n",
       "      <th></th>\n",
       "      <th></th>\n",
       "      <th></th>\n",
       "      <th></th>\n",
       "      <th></th>\n",
       "      <th></th>\n",
       "      <th></th>\n",
       "      <th></th>\n",
       "    </tr>\n",
       "  </thead>\n",
       "  <tbody>\n",
       "    <tr>\n",
       "      <th>False</th>\n",
       "      <td>2200537</td>\n",
       "      <td>2200537</td>\n",
       "      <td>2200537</td>\n",
       "      <td>2200537</td>\n",
       "      <td>2200537</td>\n",
       "      <td>2200537</td>\n",
       "      <td>2200537</td>\n",
       "      <td>2200537</td>\n",
       "    </tr>\n",
       "    <tr>\n",
       "      <th>True</th>\n",
       "      <td>1901611</td>\n",
       "      <td>1901611</td>\n",
       "      <td>1901611</td>\n",
       "      <td>1901611</td>\n",
       "      <td>1901611</td>\n",
       "      <td>1901611</td>\n",
       "      <td>1901611</td>\n",
       "      <td>1901611</td>\n",
       "    </tr>\n",
       "  </tbody>\n",
       "</table>\n",
       "</div>"
      ],
      "text/plain": [
       "          seqnames    start      end    CG_ID    TT_S0    TT_S1    TT_S2  \\\n",
       "Majority                                                                   \n",
       "False      2200537  2200537  2200537  2200537  2200537  2200537  2200537   \n",
       "True       1901611  1901611  1901611  1901611  1901611  1901611  1901611   \n",
       "\n",
       "          predict_state_SUM  \n",
       "Majority                     \n",
       "False               2200537  \n",
       "True                1901611  "
      ]
     },
     "execution_count": 5,
     "metadata": {},
     "output_type": "execute_result"
    }
   ],
   "source": [
    "df[\"Majority\"] = df[\"predict_state_SUM\"] > 10\n",
    "open_closed = df.groupby('Majority').count()\n",
    "open_closed"
   ]
  },
  {
   "cell_type": "code",
   "execution_count": 6,
   "id": "dd07952d",
   "metadata": {},
   "outputs": [
    {
     "data": {
      "text/plain": [
       "2       455.0\n",
       "4       271.0\n",
       "6       103.0\n",
       "8       283.0\n",
       "10     1001.0\n",
       "12      244.0\n",
       "14       89.0\n",
       "16      121.0\n",
       "18      246.0\n",
       "20      259.0\n",
       "22     1216.0\n",
       "24      176.0\n",
       "26      109.0\n",
       "28      578.0\n",
       "30      316.0\n",
       "32      241.0\n",
       "34      201.0\n",
       "36      191.0\n",
       "38      321.0\n",
       "40      184.0\n",
       "42      178.0\n",
       "44      243.0\n",
       "46      166.0\n",
       "48      198.0\n",
       "50       90.0\n",
       "52      216.0\n",
       "54       82.0\n",
       "56      134.0\n",
       "58      414.0\n",
       "60      305.0\n",
       "62      173.0\n",
       "64       89.0\n",
       "66      500.0\n",
       "68       91.0\n",
       "70       94.0\n",
       "72      130.0\n",
       "74      103.0\n",
       "76      152.0\n",
       "78      428.0\n",
       "80      203.0\n",
       "82      113.0\n",
       "84       80.0\n",
       "86       68.0\n",
       "88       94.0\n",
       "90       49.0\n",
       "92      140.0\n",
       "94      130.0\n",
       "96       79.0\n",
       "98      151.0\n",
       "100     215.0\n",
       "Name: start, dtype: float64"
      ]
     },
     "execution_count": 6,
     "metadata": {},
     "output_type": "execute_result"
    }
   ],
   "source": [
    "df[\"Majority\"] = df[\"Majority\"].astype(int)\n",
    "majority = df[\"Majority\"]\n",
    "df[\"diffs\"] = majority.diff()\n",
    "\n",
    "regions = df[df[\"diffs\"] != 0]\n",
    "regions = regions.reset_index(drop = True)\n",
    "\n",
    "extremes_start = regions[\"start\"]\n",
    "lenghts = extremes_start.diff()\n",
    "open_region_lengths = lenghts[2::2]\n",
    "closed_region_lengths = lenghts[1::2]\n",
    "open_region_lengths[:50]\n"
   ]
  },
  {
   "cell_type": "code",
   "execution_count": 7,
   "id": "63f6303d",
   "metadata": {},
   "outputs": [
    {
     "data": {
      "text/html": [
       "<div>\n",
       "<style scoped>\n",
       "    .dataframe tbody tr th:only-of-type {\n",
       "        vertical-align: middle;\n",
       "    }\n",
       "\n",
       "    .dataframe tbody tr th {\n",
       "        vertical-align: top;\n",
       "    }\n",
       "\n",
       "    .dataframe thead th {\n",
       "        text-align: right;\n",
       "    }\n",
       "</style>\n",
       "<table border=\"1\" class=\"dataframe\">\n",
       "  <thead>\n",
       "    <tr style=\"text-align: right;\">\n",
       "      <th></th>\n",
       "      <th>seqnames</th>\n",
       "      <th>start</th>\n",
       "      <th>end</th>\n",
       "      <th>CG_ID</th>\n",
       "      <th>TT_S0</th>\n",
       "      <th>TT_S1</th>\n",
       "      <th>TT_S2</th>\n",
       "      <th>predict_state_SUM</th>\n",
       "      <th>Majority</th>\n",
       "      <th>diffs</th>\n",
       "      <th>lenght</th>\n",
       "      <th>open</th>\n",
       "    </tr>\n",
       "  </thead>\n",
       "  <tbody>\n",
       "    <tr>\n",
       "      <th>1</th>\n",
       "      <td>18</td>\n",
       "      <td>3002193</td>\n",
       "      <td>3002193</td>\n",
       "      <td>18_3002193</td>\n",
       "      <td>0.0</td>\n",
       "      <td>0.0</td>\n",
       "      <td>3.0</td>\n",
       "      <td>12</td>\n",
       "      <td>1</td>\n",
       "      <td>1.0</td>\n",
       "      <td>455.0</td>\n",
       "      <td>True</td>\n",
       "    </tr>\n",
       "    <tr>\n",
       "      <th>3</th>\n",
       "      <td>18</td>\n",
       "      <td>3003922</td>\n",
       "      <td>3003922</td>\n",
       "      <td>18_3003922</td>\n",
       "      <td>1.0</td>\n",
       "      <td>0.0</td>\n",
       "      <td>0.0</td>\n",
       "      <td>12</td>\n",
       "      <td>1</td>\n",
       "      <td>1.0</td>\n",
       "      <td>271.0</td>\n",
       "      <td>True</td>\n",
       "    </tr>\n",
       "    <tr>\n",
       "      <th>5</th>\n",
       "      <td>18</td>\n",
       "      <td>3004806</td>\n",
       "      <td>3004806</td>\n",
       "      <td>18_3004806</td>\n",
       "      <td>0.0</td>\n",
       "      <td>0.0</td>\n",
       "      <td>0.0</td>\n",
       "      <td>11</td>\n",
       "      <td>1</td>\n",
       "      <td>1.0</td>\n",
       "      <td>103.0</td>\n",
       "      <td>True</td>\n",
       "    </tr>\n",
       "    <tr>\n",
       "      <th>7</th>\n",
       "      <td>18</td>\n",
       "      <td>3005107</td>\n",
       "      <td>3005107</td>\n",
       "      <td>18_3005107</td>\n",
       "      <td>1.0</td>\n",
       "      <td>2.0</td>\n",
       "      <td>0.0</td>\n",
       "      <td>20</td>\n",
       "      <td>1</td>\n",
       "      <td>1.0</td>\n",
       "      <td>283.0</td>\n",
       "      <td>True</td>\n",
       "    </tr>\n",
       "    <tr>\n",
       "      <th>9</th>\n",
       "      <td>18</td>\n",
       "      <td>3005448</td>\n",
       "      <td>3005448</td>\n",
       "      <td>18_3005448</td>\n",
       "      <td>0.0</td>\n",
       "      <td>1.0</td>\n",
       "      <td>0.0</td>\n",
       "      <td>13</td>\n",
       "      <td>1</td>\n",
       "      <td>1.0</td>\n",
       "      <td>1001.0</td>\n",
       "      <td>True</td>\n",
       "    </tr>\n",
       "  </tbody>\n",
       "</table>\n",
       "</div>"
      ],
      "text/plain": [
       "  seqnames    start      end       CG_ID  TT_S0  TT_S1  TT_S2  \\\n",
       "1       18  3002193  3002193  18_3002193    0.0    0.0    3.0   \n",
       "3       18  3003922  3003922  18_3003922    1.0    0.0    0.0   \n",
       "5       18  3004806  3004806  18_3004806    0.0    0.0    0.0   \n",
       "7       18  3005107  3005107  18_3005107    1.0    2.0    0.0   \n",
       "9       18  3005448  3005448  18_3005448    0.0    1.0    0.0   \n",
       "\n",
       "   predict_state_SUM  Majority  diffs  lenght  open  \n",
       "1                 12         1    1.0   455.0  True  \n",
       "3                 12         1    1.0   271.0  True  \n",
       "5                 11         1    1.0   103.0  True  \n",
       "7                 20         1    1.0   283.0  True  \n",
       "9                 13         1    1.0  1001.0  True  "
      ]
     },
     "execution_count": 7,
     "metadata": {},
     "output_type": "execute_result"
    }
   ],
   "source": [
    "regions[\"lenght\"] = regions[\"start\"].diff().shift(-1)\n",
    "regions[\"open\"] = regions[\"diffs\"] == 1\n",
    "\n",
    "open_regions = regions[regions[\"open\"] == True]\n",
    "closed_regions = regions[regions[\"open\"] == False]\n",
    "\n",
    "open_regions.head()\n"
   ]
  },
  {
   "cell_type": "code",
   "execution_count": 8,
   "id": "7e710fdd",
   "metadata": {},
   "outputs": [
    {
     "name": "stdout",
     "output_type": "stream",
     "text": [
      "PRIEŠ VALYMĄ\n",
      "8887\n",
      "3179\n",
      "192151\n"
     ]
    }
   ],
   "source": [
    "print(\"PRIEŠ VALYMĄ\")\n",
    "\n",
    "short_open_regions = regions.loc[(regions['open'] == True) & (regions['lenght']  <= 75)]\n",
    "short_closed_regions = regions.loc[(regions['open'] == False) & (regions['lenght']  <= 50)]\n",
    "\n",
    "print(len(short_open_regions.index))\n",
    "print(len(short_closed_regions.index))\n",
    "print(len(regions.index))"
   ]
  },
  {
   "cell_type": "code",
   "execution_count": 9,
   "id": "2999cb4e",
   "metadata": {},
   "outputs": [],
   "source": [
    "regions = regions.drop(regions[(regions['open'] == True) & (regions['lenght']  <= 75)].index)\n",
    "regions = regions.drop(regions[(regions['open'] == False) & (regions['lenght']  <= 50)].index)\n",
    "regions = regions.drop(regions[(regions['open'] == regions['open'].shift(-1))].index)\n",
    "\n",
    "regions[\"lenght\"] = regions[\"start\"].diff().shift(-1)\n",
    "\n"
   ]
  },
  {
   "cell_type": "code",
   "execution_count": null,
   "id": "75a7fd6f",
   "metadata": {},
   "outputs": [],
   "source": []
  },
  {
   "cell_type": "code",
   "execution_count": 10,
   "id": "2d47b570",
   "metadata": {},
   "outputs": [
    {
     "name": "stdout",
     "output_type": "stream",
     "text": [
      "PO VALYMO\n",
      "0\n",
      "0\n",
      "168475\n"
     ]
    }
   ],
   "source": [
    "print(\"PO VALYMO\")\n",
    "\n",
    "short_open_regions = regions.loc[(regions['open'] == True) & (regions['lenght']  <= 75)]\n",
    "short_closed_regions = regions.loc[(regions['open'] == False) & (regions['lenght']  <= 50)]\n",
    "\n",
    "print(len(short_open_regions.index))\n",
    "print(len(short_closed_regions.index))\n",
    "print(len(regions.index))"
   ]
  },
  {
   "cell_type": "code",
   "execution_count": 11,
   "id": "39c57160",
   "metadata": {},
   "outputs": [],
   "source": [
    "regions[\"end\"] = regions[\"start\"].shift(-1) - 1\n",
    "regions[\"end\"] = regions[\"end\"].fillna(0).astype(int)"
   ]
  },
  {
   "cell_type": "code",
   "execution_count": 12,
   "id": "4f71a53f",
   "metadata": {},
   "outputs": [
    {
     "name": "stdout",
     "output_type": "stream",
     "text": [
      "2      455.0\n",
      "4      271.0\n",
      "6      103.0\n",
      "8      283.0\n",
      "10    1001.0\n",
      "12     244.0\n",
      "14      89.0\n",
      "16     121.0\n",
      "18     246.0\n",
      "20     259.0\n",
      "Name: start, dtype: float64\n"
     ]
    },
    {
     "data": {
      "text/html": [
       "<div>\n",
       "<style scoped>\n",
       "    .dataframe tbody tr th:only-of-type {\n",
       "        vertical-align: middle;\n",
       "    }\n",
       "\n",
       "    .dataframe tbody tr th {\n",
       "        vertical-align: top;\n",
       "    }\n",
       "\n",
       "    .dataframe thead th {\n",
       "        text-align: right;\n",
       "    }\n",
       "</style>\n",
       "<table border=\"1\" class=\"dataframe\">\n",
       "  <thead>\n",
       "    <tr style=\"text-align: right;\">\n",
       "      <th></th>\n",
       "      <th>seqnames</th>\n",
       "      <th>start</th>\n",
       "      <th>end</th>\n",
       "      <th>CG_ID</th>\n",
       "      <th>TT_S0</th>\n",
       "      <th>TT_S1</th>\n",
       "      <th>TT_S2</th>\n",
       "      <th>predict_state_SUM</th>\n",
       "      <th>Majority</th>\n",
       "      <th>diffs</th>\n",
       "      <th>lenght</th>\n",
       "      <th>open</th>\n",
       "    </tr>\n",
       "  </thead>\n",
       "  <tbody>\n",
       "    <tr>\n",
       "      <th>1</th>\n",
       "      <td>18</td>\n",
       "      <td>3002193</td>\n",
       "      <td>3002647</td>\n",
       "      <td>18_3002193</td>\n",
       "      <td>0.0</td>\n",
       "      <td>0.0</td>\n",
       "      <td>3.0</td>\n",
       "      <td>12</td>\n",
       "      <td>1</td>\n",
       "      <td>1.0</td>\n",
       "      <td>455.0</td>\n",
       "      <td>True</td>\n",
       "    </tr>\n",
       "    <tr>\n",
       "      <th>3</th>\n",
       "      <td>18</td>\n",
       "      <td>3003922</td>\n",
       "      <td>3004192</td>\n",
       "      <td>18_3003922</td>\n",
       "      <td>1.0</td>\n",
       "      <td>0.0</td>\n",
       "      <td>0.0</td>\n",
       "      <td>12</td>\n",
       "      <td>1</td>\n",
       "      <td>1.0</td>\n",
       "      <td>271.0</td>\n",
       "      <td>True</td>\n",
       "    </tr>\n",
       "    <tr>\n",
       "      <th>5</th>\n",
       "      <td>18</td>\n",
       "      <td>3004806</td>\n",
       "      <td>3004908</td>\n",
       "      <td>18_3004806</td>\n",
       "      <td>0.0</td>\n",
       "      <td>0.0</td>\n",
       "      <td>0.0</td>\n",
       "      <td>11</td>\n",
       "      <td>1</td>\n",
       "      <td>1.0</td>\n",
       "      <td>103.0</td>\n",
       "      <td>True</td>\n",
       "    </tr>\n",
       "    <tr>\n",
       "      <th>7</th>\n",
       "      <td>18</td>\n",
       "      <td>3005107</td>\n",
       "      <td>3005389</td>\n",
       "      <td>18_3005107</td>\n",
       "      <td>1.0</td>\n",
       "      <td>2.0</td>\n",
       "      <td>0.0</td>\n",
       "      <td>20</td>\n",
       "      <td>1</td>\n",
       "      <td>1.0</td>\n",
       "      <td>283.0</td>\n",
       "      <td>True</td>\n",
       "    </tr>\n",
       "    <tr>\n",
       "      <th>9</th>\n",
       "      <td>18</td>\n",
       "      <td>3005448</td>\n",
       "      <td>3006448</td>\n",
       "      <td>18_3005448</td>\n",
       "      <td>0.0</td>\n",
       "      <td>1.0</td>\n",
       "      <td>0.0</td>\n",
       "      <td>13</td>\n",
       "      <td>1</td>\n",
       "      <td>1.0</td>\n",
       "      <td>1001.0</td>\n",
       "      <td>True</td>\n",
       "    </tr>\n",
       "  </tbody>\n",
       "</table>\n",
       "</div>"
      ],
      "text/plain": [
       "  seqnames    start      end       CG_ID  TT_S0  TT_S1  TT_S2  \\\n",
       "1       18  3002193  3002647  18_3002193    0.0    0.0    3.0   \n",
       "3       18  3003922  3004192  18_3003922    1.0    0.0    0.0   \n",
       "5       18  3004806  3004908  18_3004806    0.0    0.0    0.0   \n",
       "7       18  3005107  3005389  18_3005107    1.0    2.0    0.0   \n",
       "9       18  3005448  3006448  18_3005448    0.0    1.0    0.0   \n",
       "\n",
       "   predict_state_SUM  Majority  diffs  lenght  open  \n",
       "1                 12         1    1.0   455.0  True  \n",
       "3                 12         1    1.0   271.0  True  \n",
       "5                 11         1    1.0   103.0  True  \n",
       "7                 20         1    1.0   283.0  True  \n",
       "9                 13         1    1.0  1001.0  True  "
      ]
     },
     "execution_count": 12,
     "metadata": {},
     "output_type": "execute_result"
    }
   ],
   "source": [
    "open_regions = regions[regions[\"open\"] == True]\n",
    "closed_regions = regions[regions[\"open\"] == False]\n",
    "\n",
    "print(open_region_lengths[:10])\n",
    "open_regions.head()"
   ]
  },
  {
   "cell_type": "code",
   "execution_count": 13,
   "id": "71092eb9",
   "metadata": {},
   "outputs": [
    {
     "name": "stdout",
     "output_type": "stream",
     "text": [
      "Medianos\n",
      "224.0\n",
      "353.0\n",
      "\n",
      "Moda\n",
      "0    94.0\n",
      "dtype: float64\n",
      "0    81.0\n",
      "dtype: float64\n",
      "\n",
      "Vidurkiai\n",
      "398.46055771216925\n",
      "641.4736398494723\n",
      "\n",
      "Sumos\n",
      "33565122.0\n",
      "54035815.0\n",
      "\n",
      "Frakcija\n",
      "0.3831593947448302\n",
      "0.6168406052551698\n"
     ]
    },
    {
     "data": {
      "image/png": "[encoded data removed]",
      "text/plain": [
       "<Figure size 640x480 with 1 Axes>"
      ]
     },
     "metadata": {},
     "output_type": "display_data"
    }
   ],
   "source": [
    "import matplotlib.pyplot as plt\n",
    "\n",
    "open_regions_18 = open_regions[open_regions['seqnames'] == '18']\n",
    "closed_regions_18 = closed_regions[closed_regions['seqnames'] == '18']\n",
    "\n",
    "print(\"Medianos\")\n",
    "print(open_regions_18[\"lenght\"].median())\n",
    "print(closed_regions_18[\"lenght\"].median())\n",
    "\n",
    "print(\"\\nModa\")\n",
    "print(open_regions_18[\"lenght\"].mode())\n",
    "print(closed_regions_18[\"lenght\"].mode())\n",
    "\n",
    "print(\"\\nVidurkiai\")\n",
    "print(open_regions_18[\"lenght\"].mean())\n",
    "print(closed_regions_18[\"lenght\"].mean())\n",
    "\n",
    "print(\"\\nSumos\")\n",
    "s1 = open_regions_18[\"lenght\"].sum()\n",
    "print(s1)\n",
    "s2 = closed_regions_18[\"lenght\"].sum()\n",
    "print(s2)\n",
    "\n",
    "print(\"\\nFrakcija\")\n",
    "print(s1/(s1+s2))\n",
    "print(s2/(s1+s2))\n",
    "mylabels = [\"Atvira\", \"Uždara\"]\n",
    "\n",
    "plt.pie([s1, s2], labels = mylabels)\n",
    "plt.legend()\n",
    "plt.show()"
   ]
  },
  {
   "cell_type": "code",
   "execution_count": 14,
   "id": "6e7d77c5",
   "metadata": {},
   "outputs": [
    {
     "data": {
      "text/plain": [
       "count    84237.000000\n",
       "mean       398.460558\n",
       "std        585.808719\n",
       "min         76.000000\n",
       "25%        125.000000\n",
       "50%        224.000000\n",
       "75%        447.000000\n",
       "max      50072.000000\n",
       "Name: lenght, dtype: float64"
      ]
     },
     "execution_count": 14,
     "metadata": {},
     "output_type": "execute_result"
    }
   ],
   "source": [
    "open_regions_18[\"lenght\"].describe()"
   ]
  },
  {
   "cell_type": "code",
   "execution_count": 15,
   "id": "4e11b54f",
   "metadata": {},
   "outputs": [
    {
     "data": {
      "image/png": "[encoded data removed]",
      "text/plain": [
       "<Figure size 640x480 with 1 Axes>"
      ]
     },
     "metadata": {},
     "output_type": "display_data"
    }
   ],
   "source": [
    "fig, ax = plt.pie([s1, s2], labels = mylabels)\n",
    "#fig.set_title(\"PMM rezultatai\")\n",
    "plt.legend()\n",
    "plt.show()"
   ]
  },
  {
   "cell_type": "code",
   "execution_count": 16,
   "id": "66e25167",
   "metadata": {},
   "outputs": [
    {
     "data": {
      "text/plain": [
       "87600937.0"
      ]
     },
     "execution_count": 16,
     "metadata": {},
     "output_type": "execute_result"
    }
   ],
   "source": [
    "s1+s2"
   ]
  },
  {
   "cell_type": "markdown",
   "id": "1b51ca5d",
   "metadata": {},
   "source": []
  },
  {
   "cell_type": "code",
   "execution_count": 17,
   "id": "05e682c7",
   "metadata": {},
   "outputs": [
    {
     "data": {
      "image/png": "[encoded data removed]",
      "text/plain": [
       "<Figure size 800x800 with 1 Axes>"
      ]
     },
     "metadata": {},
     "output_type": "display_data"
    }
   ],
   "source": [
    "import seaborn as sns\n",
    "\n",
    "def draw_circle_graph(open_value, closed_value, title):\n",
    "    sns.set(font_scale = 1.2)\n",
    "    plt.figure(figsize=(8,8))\n",
    "    \n",
    "    wedges, texts, autotexts = plt.pie(\n",
    "        x=[open_value, closed_value], \n",
    "        colors=sns.color_palette('Set2'),\n",
    "        startangle=90,\n",
    "        autopct='%2.2f%%',\n",
    "        pctdistance=1.2\n",
    "    )\n",
    "    \n",
    "    plt.legend(wedges, mylabels, loc=\"upper left\")\n",
    "    hole = plt.Circle((0, 0), 0.65, facecolor='white')\n",
    "    plt.gcf().gca().add_artist(hole)\n",
    "    \n",
    "    plt.title(title, fontsize = 20)\n",
    "\n",
    "    plt.show()\n",
    "\n",
    "draw_circle_graph(s1, s2, \"PMM modelis su TOP-seq duomenimis\")"
   ]
  },
  {
   "cell_type": "code",
   "execution_count": 18,
   "id": "a140ce33",
   "metadata": {},
   "outputs": [],
   "source": [
    "import seaborn as sns\n",
    "\n",
    "def draw_circle_graph_notitle(open_value, closed_value):\n",
    "    sns.set(font_scale = 1.2)\n",
    "    plt.figure(figsize=(8,8))\n",
    "    \n",
    "    wedges, texts, autotexts = plt.pie(\n",
    "        x=[open_value, closed_value], \n",
    "        colors=sns.color_palette('Set2'),\n",
    "        startangle=90,\n",
    "        autopct='%2.2f%%',\n",
    "        pctdistance=1.2\n",
    "    )\n",
    "    \n",
    "    plt.legend(wedges, mylabels, loc=\"upper left\")\n",
    "    hole = plt.Circle((0, 0), 0.65, facecolor='white')\n",
    "    plt.gcf().gca().add_artist(hole)\n",
    "    \n",
    "\n",
    "    plt.show()"
   ]
  },
  {
   "cell_type": "code",
   "execution_count": 19,
   "id": "a718db83",
   "metadata": {},
   "outputs": [
    {
     "data": {
      "image/png": "[encoded data removed]",
      "text/plain": [
       "<Figure size 800x800 with 1 Axes>"
      ]
     },
     "metadata": {},
     "output_type": "display_data"
    }
   ],
   "source": [
    "draw_circle_graph_notitle(s1, s2)"
   ]
  },
  {
   "cell_type": "code",
   "execution_count": 20,
   "id": "46588ccc",
   "metadata": {},
   "outputs": [
    {
     "data": {
      "text/plain": [
       "<BarContainer object of 2 artists>"
      ]
     },
     "execution_count": 20,
     "metadata": {},
     "output_type": "execute_result"
    },
    {
     "data": {
      "image/png": "[encoded data removed]",
      "text/plain": [
       "<Figure size 640x480 with 1 Axes>"
      ]
     },
     "metadata": {},
     "output_type": "display_data"
    }
   ],
   "source": [
    "plt.bar([\"open\", \"closed\"], [s1, s2])"
   ]
  },
  {
   "cell_type": "code",
   "execution_count": 21,
   "id": "9f83f525",
   "metadata": {},
   "outputs": [],
   "source": [
    "def draw_circle_graph_notitle(open_value, closed_value):\n",
    "    sns.set(font_scale = 1.2)\n",
    "    plt.figure(figsize=(8,8))\n",
    "    \n",
    "    wedges, texts, autotexts = plt.pie(\n",
    "        x=[open_value, closed_value], \n",
    "        colors=sns.color_palette('Set2'),\n",
    "        startangle=90,\n",
    "        autopct='%2.2f%%',\n",
    "        pctdistance=1.2\n",
    "    )\n",
    "    \n",
    "    plt.legend(wedges, mylabels, loc=\"upper left\")\n",
    "    hole = plt.Circle((0, 0), 0.65, facecolor='white')\n",
    "    plt.gcf().gca().add_artist(hole)\n",
    "\n",
    "    plt.show()"
   ]
  },
  {
   "cell_type": "code",
   "execution_count": null,
   "id": "5d6556ba",
   "metadata": {},
   "outputs": [],
   "source": [
    "\n"
   ]
  },
  {
   "cell_type": "code",
   "execution_count": 22,
   "id": "82ec1f26",
   "metadata": {},
   "outputs": [
    {
     "data": {
      "text/html": [
       "<div>\n",
       "<style scoped>\n",
       "    .dataframe tbody tr th:only-of-type {\n",
       "        vertical-align: middle;\n",
       "    }\n",
       "\n",
       "    .dataframe tbody tr th {\n",
       "        vertical-align: top;\n",
       "    }\n",
       "\n",
       "    .dataframe thead th {\n",
       "        text-align: right;\n",
       "    }\n",
       "</style>\n",
       "<table border=\"1\" class=\"dataframe\">\n",
       "  <thead>\n",
       "    <tr style=\"text-align: right;\">\n",
       "      <th></th>\n",
       "      <th>seqnames</th>\n",
       "      <th>start</th>\n",
       "      <th>end</th>\n",
       "      <th>CG_ID</th>\n",
       "      <th>TT_S0</th>\n",
       "      <th>TT_S1</th>\n",
       "      <th>TT_S2</th>\n",
       "      <th>predict_state_SUM</th>\n",
       "      <th>Majority</th>\n",
       "      <th>diffs</th>\n",
       "    </tr>\n",
       "  </thead>\n",
       "  <tbody>\n",
       "    <tr>\n",
       "      <th>871479</th>\n",
       "      <td>18</td>\n",
       "      <td>3000019</td>\n",
       "      <td>3000019</td>\n",
       "      <td>18_3000019</td>\n",
       "      <td>0.0</td>\n",
       "      <td>0.0</td>\n",
       "      <td>0.0</td>\n",
       "      <td>6</td>\n",
       "      <td>0</td>\n",
       "      <td>NaN</td>\n",
       "    </tr>\n",
       "    <tr>\n",
       "      <th>871482</th>\n",
       "      <td>18</td>\n",
       "      <td>3000023</td>\n",
       "      <td>3000023</td>\n",
       "      <td>18_3000023</td>\n",
       "      <td>0.0</td>\n",
       "      <td>0.0</td>\n",
       "      <td>0.0</td>\n",
       "      <td>7</td>\n",
       "      <td>0</td>\n",
       "      <td>0.0</td>\n",
       "    </tr>\n",
       "    <tr>\n",
       "      <th>871484</th>\n",
       "      <td>18</td>\n",
       "      <td>3000025</td>\n",
       "      <td>3000025</td>\n",
       "      <td>18_3000025</td>\n",
       "      <td>0.0</td>\n",
       "      <td>0.0</td>\n",
       "      <td>0.0</td>\n",
       "      <td>7</td>\n",
       "      <td>0</td>\n",
       "      <td>0.0</td>\n",
       "    </tr>\n",
       "    <tr>\n",
       "      <th>871492</th>\n",
       "      <td>18</td>\n",
       "      <td>3000040</td>\n",
       "      <td>3000040</td>\n",
       "      <td>18_3000040</td>\n",
       "      <td>4.0</td>\n",
       "      <td>0.0</td>\n",
       "      <td>0.0</td>\n",
       "      <td>10</td>\n",
       "      <td>0</td>\n",
       "      <td>0.0</td>\n",
       "    </tr>\n",
       "    <tr>\n",
       "      <th>871502</th>\n",
       "      <td>18</td>\n",
       "      <td>3000066</td>\n",
       "      <td>3000066</td>\n",
       "      <td>18_3000066</td>\n",
       "      <td>0.0</td>\n",
       "      <td>0.0</td>\n",
       "      <td>0.0</td>\n",
       "      <td>10</td>\n",
       "      <td>0</td>\n",
       "      <td>0.0</td>\n",
       "    </tr>\n",
       "    <tr>\n",
       "      <th>...</th>\n",
       "      <td>...</td>\n",
       "      <td>...</td>\n",
       "      <td>...</td>\n",
       "      <td>...</td>\n",
       "      <td>...</td>\n",
       "      <td>...</td>\n",
       "      <td>...</td>\n",
       "      <td>...</td>\n",
       "      <td>...</td>\n",
       "      <td>...</td>\n",
       "    </tr>\n",
       "    <tr>\n",
       "      <th>4061463</th>\n",
       "      <td>18</td>\n",
       "      <td>90601940</td>\n",
       "      <td>90601940</td>\n",
       "      <td>18_90601940</td>\n",
       "      <td>0.0</td>\n",
       "      <td>0.0</td>\n",
       "      <td>0.0</td>\n",
       "      <td>0</td>\n",
       "      <td>0</td>\n",
       "      <td>0.0</td>\n",
       "    </tr>\n",
       "    <tr>\n",
       "      <th>4061464</th>\n",
       "      <td>18</td>\n",
       "      <td>90601946</td>\n",
       "      <td>90601946</td>\n",
       "      <td>18_90601946</td>\n",
       "      <td>0.0</td>\n",
       "      <td>0.0</td>\n",
       "      <td>0.0</td>\n",
       "      <td>0</td>\n",
       "      <td>0</td>\n",
       "      <td>0.0</td>\n",
       "    </tr>\n",
       "    <tr>\n",
       "      <th>4061465</th>\n",
       "      <td>18</td>\n",
       "      <td>90601952</td>\n",
       "      <td>90601952</td>\n",
       "      <td>18_90601952</td>\n",
       "      <td>0.0</td>\n",
       "      <td>0.0</td>\n",
       "      <td>0.0</td>\n",
       "      <td>0</td>\n",
       "      <td>0</td>\n",
       "      <td>0.0</td>\n",
       "    </tr>\n",
       "    <tr>\n",
       "      <th>4061466</th>\n",
       "      <td>18</td>\n",
       "      <td>90601957</td>\n",
       "      <td>90601957</td>\n",
       "      <td>18_90601957</td>\n",
       "      <td>0.0</td>\n",
       "      <td>0.0</td>\n",
       "      <td>0.0</td>\n",
       "      <td>0</td>\n",
       "      <td>0</td>\n",
       "      <td>0.0</td>\n",
       "    </tr>\n",
       "    <tr>\n",
       "      <th>4061467</th>\n",
       "      <td>18</td>\n",
       "      <td>90601969</td>\n",
       "      <td>90601969</td>\n",
       "      <td>18_90601969</td>\n",
       "      <td>1.0</td>\n",
       "      <td>0.0</td>\n",
       "      <td>0.0</td>\n",
       "      <td>0</td>\n",
       "      <td>0</td>\n",
       "      <td>0.0</td>\n",
       "    </tr>\n",
       "  </tbody>\n",
       "</table>\n",
       "<p>4102148 rows × 10 columns</p>\n",
       "</div>"
      ],
      "text/plain": [
       "        seqnames     start       end        CG_ID  TT_S0  TT_S1  TT_S2  \\\n",
       "871479        18   3000019   3000019   18_3000019    0.0    0.0    0.0   \n",
       "871482        18   3000023   3000023   18_3000023    0.0    0.0    0.0   \n",
       "871484        18   3000025   3000025   18_3000025    0.0    0.0    0.0   \n",
       "871492        18   3000040   3000040   18_3000040    4.0    0.0    0.0   \n",
       "871502        18   3000066   3000066   18_3000066    0.0    0.0    0.0   \n",
       "...          ...       ...       ...          ...    ...    ...    ...   \n",
       "4061463       18  90601940  90601940  18_90601940    0.0    0.0    0.0   \n",
       "4061464       18  90601946  90601946  18_90601946    0.0    0.0    0.0   \n",
       "4061465       18  90601952  90601952  18_90601952    0.0    0.0    0.0   \n",
       "4061466       18  90601957  90601957  18_90601957    0.0    0.0    0.0   \n",
       "4061467       18  90601969  90601969  18_90601969    1.0    0.0    0.0   \n",
       "\n",
       "         predict_state_SUM  Majority  diffs  \n",
       "871479                   6         0    NaN  \n",
       "871482                   7         0    0.0  \n",
       "871484                   7         0    0.0  \n",
       "871492                  10         0    0.0  \n",
       "871502                  10         0    0.0  \n",
       "...                    ...       ...    ...  \n",
       "4061463                  0         0    0.0  \n",
       "4061464                  0         0    0.0  \n",
       "4061465                  0         0    0.0  \n",
       "4061466                  0         0    0.0  \n",
       "4061467                  0         0    0.0  \n",
       "\n",
       "[4102148 rows x 10 columns]"
      ]
     },
     "execution_count": 22,
     "metadata": {},
     "output_type": "execute_result"
    }
   ],
   "source": [
    "df"
   ]
  },
  {
   "cell_type": "code",
   "execution_count": 77,
   "id": "b25de8f6",
   "metadata": {},
   "outputs": [
    {
     "data": {
      "image/png": "[encoded data removed]",
      "text/plain": [
       "<Figure size 640x480 with 1 Axes>"
      ]
     },
     "metadata": {},
     "output_type": "display_data"
    },
    {
     "data": {
      "image/png": "[encoded data removed]",
      "text/plain": [
       "<Figure size 640x480 with 1 Axes>"
      ]
     },
     "metadata": {},
     "output_type": "display_data"
    }
   ],
   "source": [
    "import matplotlib.pyplot as plt\n",
    "import numpy as np\n",
    "\n",
    "open_regions_18 = open_regions[open_regions['seqnames'] == '18']\n",
    "closed_regions_18 = closed_regions[closed_regions['seqnames'] == '18']\n",
    "\n",
    "bins = np.arange(0, 2500, step=100)\n",
    "\n",
    "plt.hist(open_regions_18[\"lenght\"], bins=bins, range=(-50, 2000))\n",
    "plt.title(\"PMM ir TOP-seq - atviro chromatino regionai\")\n",
    "plt.xticks(bins, fontsize = 10, rotation='vertical')\n",
    "plt.yticks(fontsize = 10)\n",
    "\n",
    "axes = plt.gca()\n",
    "axes.set_ylim([0,30000])\n",
    "plt.show()\n",
    "\n",
    "plt.hist(closed_regions[\"lenght\"], bins=bins, range=(-50, 2000))\n",
    "plt.title(\"PMM ir TOP-seq - tarpai tarp regionų\")\n",
    "plt.xticks(bins, fontsize = 10, rotation='vertical')\n",
    "plt.yticks(fontsize = 10)\n",
    "axes = plt.gca()\n",
    "axes.set_ylim([0,30000])\n",
    "plt.show()"
   ]
  },
  {
   "cell_type": "code",
   "execution_count": 24,
   "id": "0e4ba457",
   "metadata": {},
   "outputs": [
    {
     "name": "stdout",
     "output_type": "stream",
     "text": [
      "  seqnames    start      end  width strand    study\n",
      "0        1  3062536  3063132    597      *  ATACseq\n",
      "1        1  3482735  3483063    329      *  ATACseq\n",
      "2        1  3549538  3549654    117      *  ATACseq\n",
      "3        1  3649136  3649335    200      *  ATACseq\n",
      "4        1  3670656  3672554   1899      *  ATACseq\n"
     ]
    }
   ],
   "source": [
    "import pyreadr\n",
    "\n",
    "result = pyreadr.read_r('../Data/ATAC_dt.RDS')\n",
    "atac = result[None]\n",
    "print(atac.head())"
   ]
  },
  {
   "cell_type": "code",
   "execution_count": 78,
   "id": "fb1e1cd5",
   "metadata": {},
   "outputs": [
    {
     "name": "stdout",
     "output_type": "stream",
     "text": [
      "      seqnames    start      end  width strand    study\n",
      "22118       18  3280837  3281100    264      *  ATACseq\n",
      "22119       18  3336875  3337865    991      *  ATACseq\n",
      "22120       18  3382982  3383314    333      *  ATACseq\n",
      "22121       18  3449574  3449756    183      *  ATACseq\n",
      "22122       18  3481298  3481423    126      *  ATACseq\n",
      "Kiekis\n",
      "1649\n",
      "Medianos\n",
      "242.0\n",
      "\n",
      "Moda\n",
      "0    107\n",
      "dtype: int32\n",
      "\n",
      "Vidurkiai\n",
      "336.3899332929048\n",
      "\n",
      "Sumos\n",
      "554707\n"
     ]
    },
    {
     "data": {
      "image/png": "[encoded data removed]",
      "text/plain": [
       "<Figure size 640x480 with 1 Axes>"
      ]
     },
     "metadata": {},
     "output_type": "display_data"
    }
   ],
   "source": [
    "atac_18 = atac[atac['seqnames'] == '18']\n",
    "print(atac_18.head())\n",
    "atac_lengths = atac_18['width']\n",
    "\n",
    "print(\"Kiekis\")\n",
    "print(atac_lengths.count())\n",
    "\n",
    "print(\"Medianos\")\n",
    "print(atac_lengths.median())\n",
    "\n",
    "print(\"\\nModa\")\n",
    "print(atac_lengths.mode())\n",
    "\n",
    "print(\"\\nVidurkiai\")\n",
    "print(atac_lengths.mean())\n",
    "\n",
    "print(\"\\nSumos\")\n",
    "sum_atac = atac_lengths.sum()\n",
    "print(sum_atac)\n",
    "\n",
    "bins = np.arange(0, 2500, step=100)\n",
    "fig, axes, a = plt.hist(atac_lengths, bins=bins, range=(-50, 1000))\n",
    "plt.title(\"ATAC-seq - atviro chromatino regionai\")\n",
    "plt.xticks(bins, fontsize = 10, rotation='vertical')\n",
    "plt.yticks(fontsize = 10)\n",
    "plt.ylim([0,1600])\n",
    "plt.show()"
   ]
  },
  {
   "cell_type": "code",
   "execution_count": 26,
   "id": "4e2bcc45",
   "metadata": {},
   "outputs": [
    {
     "data": {
      "image/png": "[encoded data removed]",
      "text/plain": [
       "<Figure size 800x800 with 1 Axes>"
      ]
     },
     "metadata": {},
     "output_type": "display_data"
    }
   ],
   "source": [
    "draw_circle_graph(sum_atac, CHROMOSOME_18_BP-sum_atac, \"ATAC-seq\")"
   ]
  },
  {
   "cell_type": "code",
   "execution_count": 27,
   "id": "869780d6",
   "metadata": {},
   "outputs": [
    {
     "data": {
      "text/plain": [
       "count    1649.000000\n",
       "mean      336.389933\n",
       "std       246.344841\n",
       "min       101.000000\n",
       "25%       155.000000\n",
       "50%       242.000000\n",
       "75%       443.000000\n",
       "max      1499.000000\n",
       "Name: width, dtype: float64"
      ]
     },
     "execution_count": 27,
     "metadata": {},
     "output_type": "execute_result"
    }
   ],
   "source": [
    "atac_18['width'].describe()"
   ]
  },
  {
   "cell_type": "code",
   "execution_count": 28,
   "id": "4efa8cc5",
   "metadata": {},
   "outputs": [
    {
     "name": "stdout",
     "output_type": "stream",
     "text": [
      "  seqnames    start      end  width strand   study\n",
      "0        1  3062584  3062721    138      *  DNAseq\n",
      "1        1  3062853  3063133    281      *  DNAseq\n",
      "2        1  3343577  3343809    233      *  DNAseq\n",
      "3        1  3445798  3445915    118      *  DNAseq\n",
      "4        1  3445996  3446201    206      *  DNAseq\n"
     ]
    }
   ],
   "source": [
    "import pyreadr\n",
    "\n",
    "result = pyreadr.read_r('../Data/DNAseq_dt.RDS')\n",
    "dnaseq = result[None]\n",
    "print(dnaseq.head())"
   ]
  },
  {
   "cell_type": "code",
   "execution_count": 79,
   "id": "9b413fa0",
   "metadata": {},
   "outputs": [
    {
     "name": "stdout",
     "output_type": "stream",
     "text": [
      "Kiekis\n",
      "3232\n",
      "Medianos\n",
      "206.0\n",
      "\n",
      "Moda\n",
      "0    102\n",
      "dtype: int32\n",
      "\n",
      "Vidurkiai\n",
      "277.40965346534654\n",
      "\n",
      "Sumos\n",
      "896588\n"
     ]
    },
    {
     "data": {
      "image/png": "[encoded data removed]",
      "text/plain": [
       "<Figure size 640x480 with 1 Axes>"
      ]
     },
     "metadata": {},
     "output_type": "display_data"
    }
   ],
   "source": [
    "dnaseq_18 = dnaseq[dnaseq['seqnames'] == '18']\n",
    "dnaseq_lengths = dnaseq_18['width']\n",
    "\n",
    "print(\"Kiekis\")\n",
    "print(dnaseq_lengths.count())\n",
    "\n",
    "print(\"Medianos\")\n",
    "print(dnaseq_lengths.median())\n",
    "\n",
    "print(\"\\nModa\")\n",
    "print(dnaseq_lengths.mode())\n",
    "\n",
    "print(\"\\nVidurkiai\")\n",
    "print(dnaseq_lengths.mean())\n",
    "\n",
    "print(\"\\nSumos\")\n",
    "dnaseq_sum = dnaseq_lengths.sum()\n",
    "print(dnaseq_sum)\n",
    "\n",
    "plt.hist(dnaseq_lengths, bins=bins, range=(-50, 1000))\n",
    "plt.title(\"DNA-seq - atviro chromatino regionai\")\n",
    "plt.xticks(bins, fontsize = 10, rotation='vertical')\n",
    "plt.yticks(fontsize = 10)\n",
    "plt.ylim([0,1600])\n",
    "plt.show()\n"
   ]
  },
  {
   "cell_type": "code",
   "execution_count": 30,
   "id": "50429a93",
   "metadata": {},
   "outputs": [
    {
     "data": {
      "image/png": "[encoded data removed]",
      "text/plain": [
       "<Figure size 800x800 with 1 Axes>"
      ]
     },
     "metadata": {},
     "output_type": "display_data"
    }
   ],
   "source": [
    "draw_circle_graph(dnaseq_sum, CHROMOSOME_18_BP-dnaseq_sum, \"DNA-seq\")"
   ]
  },
  {
   "cell_type": "code",
   "execution_count": 31,
   "id": "9796caf4",
   "metadata": {},
   "outputs": [
    {
     "data": {
      "text/plain": [
       "count    3232.000000\n",
       "mean      277.409653\n",
       "std       189.478355\n",
       "min       101.000000\n",
       "25%       142.000000\n",
       "50%       206.000000\n",
       "75%       349.000000\n",
       "max      1286.000000\n",
       "Name: width, dtype: float64"
      ]
     },
     "execution_count": 31,
     "metadata": {},
     "output_type": "execute_result"
    }
   ],
   "source": [
    "dnaseq_18['width'].describe()"
   ]
  },
  {
   "cell_type": "code",
   "execution_count": 32,
   "id": "3007c0c3",
   "metadata": {},
   "outputs": [],
   "source": [
    "def format_regions(open_regions):\n",
    "    open_regions_formatted = open_regions.copy()\n",
    "    open_regions_formatted.rename(columns={'lenght' : 'width', 'start' : 'Start', 'end' : 'End', 'seqnames' : 'Chromosome', 'predict_state_SUM' : 'Score', 'CG_ID' : \"name\"}, inplace=True)\n",
    "\n",
    "    open_regions_formatted.drop(['Majority'], axis=1, inplace=True)\n",
    "    open_regions_formatted.drop(['diffs'], axis=1, inplace=True)\n",
    "    open_regions_formatted.drop(['open'], axis=1, inplace=True)\n",
    "\n",
    "    open_regions_formatted['strand'] = '.'\n",
    "    #open_regions_formatted['name'] = open_regions_formatted['Start']\n",
    "\n",
    "    return open_regions_formatted"
   ]
  },
  {
   "cell_type": "code",
   "execution_count": 33,
   "id": "56677a07",
   "metadata": {},
   "outputs": [],
   "source": [
    "open_regions_formatted = format_regions(open_regions)"
   ]
  },
  {
   "cell_type": "code",
   "execution_count": 34,
   "id": "54bc715c",
   "metadata": {},
   "outputs": [
    {
     "data": {
      "text/html": [
       "<div>\n",
       "<style scoped>\n",
       "    .dataframe tbody tr th:only-of-type {\n",
       "        vertical-align: middle;\n",
       "    }\n",
       "\n",
       "    .dataframe tbody tr th {\n",
       "        vertical-align: top;\n",
       "    }\n",
       "\n",
       "    .dataframe thead th {\n",
       "        text-align: right;\n",
       "    }\n",
       "</style>\n",
       "<table border=\"1\" class=\"dataframe\">\n",
       "  <thead>\n",
       "    <tr style=\"text-align: right;\">\n",
       "      <th></th>\n",
       "      <th>Chromosome</th>\n",
       "      <th>Start</th>\n",
       "      <th>End</th>\n",
       "      <th>name</th>\n",
       "      <th>TT_S0</th>\n",
       "      <th>TT_S1</th>\n",
       "      <th>TT_S2</th>\n",
       "      <th>Score</th>\n",
       "      <th>width</th>\n",
       "      <th>strand</th>\n",
       "    </tr>\n",
       "  </thead>\n",
       "  <tbody>\n",
       "    <tr>\n",
       "      <th>1</th>\n",
       "      <td>18</td>\n",
       "      <td>3002193</td>\n",
       "      <td>3002647</td>\n",
       "      <td>18_3002193</td>\n",
       "      <td>0.0</td>\n",
       "      <td>0.0</td>\n",
       "      <td>3.0</td>\n",
       "      <td>12</td>\n",
       "      <td>455.0</td>\n",
       "      <td>.</td>\n",
       "    </tr>\n",
       "    <tr>\n",
       "      <th>3</th>\n",
       "      <td>18</td>\n",
       "      <td>3003922</td>\n",
       "      <td>3004192</td>\n",
       "      <td>18_3003922</td>\n",
       "      <td>1.0</td>\n",
       "      <td>0.0</td>\n",
       "      <td>0.0</td>\n",
       "      <td>12</td>\n",
       "      <td>271.0</td>\n",
       "      <td>.</td>\n",
       "    </tr>\n",
       "    <tr>\n",
       "      <th>5</th>\n",
       "      <td>18</td>\n",
       "      <td>3004806</td>\n",
       "      <td>3004908</td>\n",
       "      <td>18_3004806</td>\n",
       "      <td>0.0</td>\n",
       "      <td>0.0</td>\n",
       "      <td>0.0</td>\n",
       "      <td>11</td>\n",
       "      <td>103.0</td>\n",
       "      <td>.</td>\n",
       "    </tr>\n",
       "    <tr>\n",
       "      <th>7</th>\n",
       "      <td>18</td>\n",
       "      <td>3005107</td>\n",
       "      <td>3005389</td>\n",
       "      <td>18_3005107</td>\n",
       "      <td>1.0</td>\n",
       "      <td>2.0</td>\n",
       "      <td>0.0</td>\n",
       "      <td>20</td>\n",
       "      <td>283.0</td>\n",
       "      <td>.</td>\n",
       "    </tr>\n",
       "    <tr>\n",
       "      <th>9</th>\n",
       "      <td>18</td>\n",
       "      <td>3005448</td>\n",
       "      <td>3006448</td>\n",
       "      <td>18_3005448</td>\n",
       "      <td>0.0</td>\n",
       "      <td>1.0</td>\n",
       "      <td>0.0</td>\n",
       "      <td>13</td>\n",
       "      <td>1001.0</td>\n",
       "      <td>.</td>\n",
       "    </tr>\n",
       "  </tbody>\n",
       "</table>\n",
       "</div>"
      ],
      "text/plain": [
       "  Chromosome    Start      End        name  TT_S0  TT_S1  TT_S2  Score  \\\n",
       "1         18  3002193  3002647  18_3002193    0.0    0.0    3.0     12   \n",
       "3         18  3003922  3004192  18_3003922    1.0    0.0    0.0     12   \n",
       "5         18  3004806  3004908  18_3004806    0.0    0.0    0.0     11   \n",
       "7         18  3005107  3005389  18_3005107    1.0    2.0    0.0     20   \n",
       "9         18  3005448  3006448  18_3005448    0.0    1.0    0.0     13   \n",
       "\n",
       "    width strand  \n",
       "1   455.0      .  \n",
       "3   271.0      .  \n",
       "5   103.0      .  \n",
       "7   283.0      .  \n",
       "9  1001.0      .  "
      ]
     },
     "execution_count": 34,
     "metadata": {},
     "output_type": "execute_result"
    }
   ],
   "source": [
    "open_regions_formatted.head()"
   ]
  },
  {
   "cell_type": "code",
   "execution_count": 35,
   "id": "20b26fff",
   "metadata": {},
   "outputs": [
    {
     "data": {
      "text/html": [
       "<div>\n",
       "<style scoped>\n",
       "    .dataframe tbody tr th:only-of-type {\n",
       "        vertical-align: middle;\n",
       "    }\n",
       "\n",
       "    .dataframe tbody tr th {\n",
       "        vertical-align: top;\n",
       "    }\n",
       "\n",
       "    .dataframe thead th {\n",
       "        text-align: right;\n",
       "    }\n",
       "</style>\n",
       "<table border=\"1\" class=\"dataframe\">\n",
       "  <thead>\n",
       "    <tr style=\"text-align: right;\">\n",
       "      <th></th>\n",
       "      <th>seqnames</th>\n",
       "      <th>start</th>\n",
       "      <th>end</th>\n",
       "      <th>width</th>\n",
       "      <th>strand</th>\n",
       "      <th>study</th>\n",
       "    </tr>\n",
       "  </thead>\n",
       "  <tbody>\n",
       "    <tr>\n",
       "      <th>0</th>\n",
       "      <td>1</td>\n",
       "      <td>3062584</td>\n",
       "      <td>3062721</td>\n",
       "      <td>138</td>\n",
       "      <td>*</td>\n",
       "      <td>DNAseq</td>\n",
       "    </tr>\n",
       "    <tr>\n",
       "      <th>1</th>\n",
       "      <td>1</td>\n",
       "      <td>3062853</td>\n",
       "      <td>3063133</td>\n",
       "      <td>281</td>\n",
       "      <td>*</td>\n",
       "      <td>DNAseq</td>\n",
       "    </tr>\n",
       "    <tr>\n",
       "      <th>2</th>\n",
       "      <td>1</td>\n",
       "      <td>3343577</td>\n",
       "      <td>3343809</td>\n",
       "      <td>233</td>\n",
       "      <td>*</td>\n",
       "      <td>DNAseq</td>\n",
       "    </tr>\n",
       "    <tr>\n",
       "      <th>3</th>\n",
       "      <td>1</td>\n",
       "      <td>3445798</td>\n",
       "      <td>3445915</td>\n",
       "      <td>118</td>\n",
       "      <td>*</td>\n",
       "      <td>DNAseq</td>\n",
       "    </tr>\n",
       "    <tr>\n",
       "      <th>4</th>\n",
       "      <td>1</td>\n",
       "      <td>3445996</td>\n",
       "      <td>3446201</td>\n",
       "      <td>206</td>\n",
       "      <td>*</td>\n",
       "      <td>DNAseq</td>\n",
       "    </tr>\n",
       "  </tbody>\n",
       "</table>\n",
       "</div>"
      ],
      "text/plain": [
       "  seqnames    start      end  width strand   study\n",
       "0        1  3062584  3062721    138      *  DNAseq\n",
       "1        1  3062853  3063133    281      *  DNAseq\n",
       "2        1  3343577  3343809    233      *  DNAseq\n",
       "3        1  3445798  3445915    118      *  DNAseq\n",
       "4        1  3445996  3446201    206      *  DNAseq"
      ]
     },
     "execution_count": 35,
     "metadata": {},
     "output_type": "execute_result"
    }
   ],
   "source": [
    "dnaseq.head()"
   ]
  },
  {
   "cell_type": "code",
   "execution_count": 36,
   "id": "cf909052",
   "metadata": {},
   "outputs": [],
   "source": [
    "dnaseq_formatted = dnaseq.copy()\n",
    "dnaseq_formatted.rename(columns={'start' : 'Start', 'end' : 'End', 'seqnames' : 'Chromosome'}, inplace=True)\n"
   ]
  },
  {
   "cell_type": "code",
   "execution_count": 37,
   "id": "d6fc8d5b",
   "metadata": {},
   "outputs": [
    {
     "data": {
      "text/html": [
       "<div>\n",
       "<style scoped>\n",
       "    .dataframe tbody tr th:only-of-type {\n",
       "        vertical-align: middle;\n",
       "    }\n",
       "\n",
       "    .dataframe tbody tr th {\n",
       "        vertical-align: top;\n",
       "    }\n",
       "\n",
       "    .dataframe thead th {\n",
       "        text-align: right;\n",
       "    }\n",
       "</style>\n",
       "<table border=\"1\" class=\"dataframe\">\n",
       "  <thead>\n",
       "    <tr style=\"text-align: right;\">\n",
       "      <th></th>\n",
       "      <th>Chromosome</th>\n",
       "      <th>Start</th>\n",
       "      <th>End</th>\n",
       "      <th>width</th>\n",
       "      <th>strand</th>\n",
       "      <th>study</th>\n",
       "    </tr>\n",
       "  </thead>\n",
       "  <tbody>\n",
       "    <tr>\n",
       "      <th>0</th>\n",
       "      <td>1</td>\n",
       "      <td>3062584</td>\n",
       "      <td>3062721</td>\n",
       "      <td>138</td>\n",
       "      <td>*</td>\n",
       "      <td>DNAseq</td>\n",
       "    </tr>\n",
       "    <tr>\n",
       "      <th>1</th>\n",
       "      <td>1</td>\n",
       "      <td>3062853</td>\n",
       "      <td>3063133</td>\n",
       "      <td>281</td>\n",
       "      <td>*</td>\n",
       "      <td>DNAseq</td>\n",
       "    </tr>\n",
       "    <tr>\n",
       "      <th>2</th>\n",
       "      <td>1</td>\n",
       "      <td>3343577</td>\n",
       "      <td>3343809</td>\n",
       "      <td>233</td>\n",
       "      <td>*</td>\n",
       "      <td>DNAseq</td>\n",
       "    </tr>\n",
       "    <tr>\n",
       "      <th>3</th>\n",
       "      <td>1</td>\n",
       "      <td>3445798</td>\n",
       "      <td>3445915</td>\n",
       "      <td>118</td>\n",
       "      <td>*</td>\n",
       "      <td>DNAseq</td>\n",
       "    </tr>\n",
       "    <tr>\n",
       "      <th>4</th>\n",
       "      <td>1</td>\n",
       "      <td>3445996</td>\n",
       "      <td>3446201</td>\n",
       "      <td>206</td>\n",
       "      <td>*</td>\n",
       "      <td>DNAseq</td>\n",
       "    </tr>\n",
       "  </tbody>\n",
       "</table>\n",
       "</div>"
      ],
      "text/plain": [
       "  Chromosome    Start      End  width strand   study\n",
       "0          1  3062584  3062721    138      *  DNAseq\n",
       "1          1  3062853  3063133    281      *  DNAseq\n",
       "2          1  3343577  3343809    233      *  DNAseq\n",
       "3          1  3445798  3445915    118      *  DNAseq\n",
       "4          1  3445996  3446201    206      *  DNAseq"
      ]
     },
     "execution_count": 37,
     "metadata": {},
     "output_type": "execute_result"
    }
   ],
   "source": [
    "dnaseq_formatted.head()"
   ]
  },
  {
   "cell_type": "code",
   "execution_count": 38,
   "id": "cb54ce99",
   "metadata": {},
   "outputs": [
    {
     "name": "stdout",
     "output_type": "stream",
     "text": [
      "+--------------+-----------+-----------+-------------+-------------+-------+\n",
      "| Chromosome   | Start     | End       | name        | TT_S0       | +5    |\n",
      "| (category)   | (int64)   | (int64)   | (object)    | (float64)   | ...   |\n",
      "|--------------+-----------+-----------+-------------+-------------+-------|\n",
      "| 18           | 3005107   | 3005389   | 18_3005107  | 1.0         | ...   |\n",
      "| 18           | 3005448   | 3006448   | 18_3005448  | 0.0         | ...   |\n",
      "| 18           | 3039391   | 3039804   | 18_3039391  | 0.0         | ...   |\n",
      "| 18           | 3280712   | 3281526   | 18_3280712  | 0.0         | ...   |\n",
      "| ...          | ...       | ...       | ...         | ...         | ...   |\n",
      "| 18           | 90412149  | 90412618  | 18_90412149 | 0.0         | ...   |\n",
      "| 18           | 90509761  | 90510810  | 18_90509761 | 0.0         | ...   |\n",
      "| 18           | 90579385  | 90580098  | 18_90579385 | 0.0         | ...   |\n",
      "| 18           | 90580173  | 90580942  | 18_90580173 | 1.0         | ...   |\n",
      "+--------------+-----------+-----------+-------------+-------------+-------+\n",
      "Unstranded PyRanges object has 2,710 rows and 10 columns from 1 chromosomes.\n",
      "For printing, the PyRanges was sorted on Chromosome.\n",
      "5 hidden columns: TT_S1, TT_S2, Score, width, strand\n",
      "ILGIS:  2789429\n",
      "+--------------+-----------+-----------+-------------+-------------+-------+\n",
      "| Chromosome   | Start     | End       | name        | TT_S0       | +5    |\n",
      "| (category)   | (int64)   | (int64)   | (object)    | (float64)   | ...   |\n",
      "|--------------+-----------+-----------+-------------+-------------+-------|\n",
      "| 18           | 3005165   | 3005389   | 18_3005107  | 1.0         | ...   |\n",
      "| 18           | 3005785   | 3006003   | 18_3005448  | 0.0         | ...   |\n",
      "| 18           | 3039453   | 3039587   | 18_3039391  | 0.0         | ...   |\n",
      "| 18           | 3280730   | 3281254   | 18_3280712  | 0.0         | ...   |\n",
      "| ...          | ...       | ...       | ...         | ...         | ...   |\n",
      "| 18           | 90412426  | 90412553  | 18_90412149 | 0.0         | ...   |\n",
      "| 18           | 90509826  | 90510787  | 18_90509761 | 0.0         | ...   |\n",
      "| 18           | 90579394  | 90580098  | 18_90579385 | 0.0         | ...   |\n",
      "| 18           | 90580911  | 90580942  | 18_90580173 | 1.0         | ...   |\n",
      "+--------------+-----------+-----------+-------------+-------------+-------+\n",
      "Unstranded PyRanges object has 3,159 rows and 10 columns from 1 chromosomes.\n",
      "For printing, the PyRanges was sorted on Chromosome.\n",
      "5 hidden columns: TT_S1, TT_S2, Score, width, strand\n",
      "ILGIS:  784068\n",
      "Jaccard index:  0.281085483803316\n"
     ]
    }
   ],
   "source": [
    "import pyranges as pr\n",
    "\n",
    "open_ranges = pr.PyRanges(open_regions_formatted)\n",
    "dnaseq_ranges = pr.PyRanges(dnaseq_formatted)\n",
    "\n",
    "open_ranges_18 = open_ranges['18']\n",
    "dnaseq_ranges_18 = dnaseq_ranges['18']\n",
    "\n",
    "overlaps = open_ranges_18.overlap(dnaseq_ranges_18)\n",
    "intersections = open_ranges_18.intersect(dnaseq_ranges_18)\n",
    "\n",
    "print(overlaps)\n",
    "print(\"ILGIS: \", overlaps.length)\n",
    "\n",
    "print(intersections)\n",
    "print(\"ILGIS: \", intersections.length)\n",
    "\n",
    "print(\"Jaccard index: \",  intersections.length/overlaps.length)\n"
   ]
  },
  {
   "cell_type": "code",
   "execution_count": 39,
   "id": "05d61629",
   "metadata": {},
   "outputs": [
    {
     "data": {
      "text/html": [
       "<div>\n",
       "<style scoped>\n",
       "    .dataframe tbody tr th:only-of-type {\n",
       "        vertical-align: middle;\n",
       "    }\n",
       "\n",
       "    .dataframe tbody tr th {\n",
       "        vertical-align: top;\n",
       "    }\n",
       "\n",
       "    .dataframe thead th {\n",
       "        text-align: right;\n",
       "    }\n",
       "</style>\n",
       "<table border=\"1\" class=\"dataframe\">\n",
       "  <thead>\n",
       "    <tr style=\"text-align: right;\">\n",
       "      <th></th>\n",
       "      <th>Chromosome</th>\n",
       "      <th>Start</th>\n",
       "      <th>End</th>\n",
       "      <th>name</th>\n",
       "      <th>TT_S0</th>\n",
       "      <th>TT_S1</th>\n",
       "      <th>TT_S2</th>\n",
       "      <th>Score</th>\n",
       "      <th>width</th>\n",
       "      <th>strand</th>\n",
       "    </tr>\n",
       "  </thead>\n",
       "  <tbody>\n",
       "    <tr>\n",
       "      <th>0</th>\n",
       "      <td>18</td>\n",
       "      <td>3002193</td>\n",
       "      <td>3002647</td>\n",
       "      <td>18_3002193</td>\n",
       "      <td>0.0</td>\n",
       "      <td>0.0</td>\n",
       "      <td>3.0</td>\n",
       "      <td>12</td>\n",
       "      <td>455.0</td>\n",
       "      <td>.</td>\n",
       "    </tr>\n",
       "    <tr>\n",
       "      <th>1</th>\n",
       "      <td>18</td>\n",
       "      <td>3003922</td>\n",
       "      <td>3004192</td>\n",
       "      <td>18_3003922</td>\n",
       "      <td>1.0</td>\n",
       "      <td>0.0</td>\n",
       "      <td>0.0</td>\n",
       "      <td>12</td>\n",
       "      <td>271.0</td>\n",
       "      <td>.</td>\n",
       "    </tr>\n",
       "    <tr>\n",
       "      <th>2</th>\n",
       "      <td>18</td>\n",
       "      <td>3004806</td>\n",
       "      <td>3004908</td>\n",
       "      <td>18_3004806</td>\n",
       "      <td>0.0</td>\n",
       "      <td>0.0</td>\n",
       "      <td>0.0</td>\n",
       "      <td>11</td>\n",
       "      <td>103.0</td>\n",
       "      <td>.</td>\n",
       "    </tr>\n",
       "    <tr>\n",
       "      <th>3</th>\n",
       "      <td>18</td>\n",
       "      <td>3005107</td>\n",
       "      <td>3005389</td>\n",
       "      <td>18_3005107</td>\n",
       "      <td>1.0</td>\n",
       "      <td>2.0</td>\n",
       "      <td>0.0</td>\n",
       "      <td>20</td>\n",
       "      <td>283.0</td>\n",
       "      <td>.</td>\n",
       "    </tr>\n",
       "    <tr>\n",
       "      <th>4</th>\n",
       "      <td>18</td>\n",
       "      <td>3005448</td>\n",
       "      <td>3006448</td>\n",
       "      <td>18_3005448</td>\n",
       "      <td>0.0</td>\n",
       "      <td>1.0</td>\n",
       "      <td>0.0</td>\n",
       "      <td>13</td>\n",
       "      <td>1001.0</td>\n",
       "      <td>.</td>\n",
       "    </tr>\n",
       "    <tr>\n",
       "      <th>5</th>\n",
       "      <td>18</td>\n",
       "      <td>3006632</td>\n",
       "      <td>3006875</td>\n",
       "      <td>18_3006632</td>\n",
       "      <td>0.0</td>\n",
       "      <td>0.0</td>\n",
       "      <td>0.0</td>\n",
       "      <td>11</td>\n",
       "      <td>244.0</td>\n",
       "      <td>.</td>\n",
       "    </tr>\n",
       "    <tr>\n",
       "      <th>6</th>\n",
       "      <td>18</td>\n",
       "      <td>3006980</td>\n",
       "      <td>3007068</td>\n",
       "      <td>18_3006980</td>\n",
       "      <td>0.0</td>\n",
       "      <td>0.0</td>\n",
       "      <td>1.0</td>\n",
       "      <td>16</td>\n",
       "      <td>89.0</td>\n",
       "      <td>.</td>\n",
       "    </tr>\n",
       "    <tr>\n",
       "      <th>7</th>\n",
       "      <td>18</td>\n",
       "      <td>3008020</td>\n",
       "      <td>3008140</td>\n",
       "      <td>18_3008020</td>\n",
       "      <td>0.0</td>\n",
       "      <td>0.0</td>\n",
       "      <td>0.0</td>\n",
       "      <td>12</td>\n",
       "      <td>121.0</td>\n",
       "      <td>.</td>\n",
       "    </tr>\n",
       "  </tbody>\n",
       "</table>\n",
       "</div>"
      ],
      "text/plain": [
       "+--------------+-----------+-----------+------------+-------------+-------+\n",
       "|   Chromosome |     Start |       End |       name |       TT_S0 | +5    |\n",
       "|   (category) |   (int64) |   (int64) |   (object) |   (float64) | ...   |\n",
       "|--------------+-----------+-----------+------------+-------------+-------|\n",
       "|           18 |   3002193 |   3002647 | 18_3002193 |           0 | ...   |\n",
       "|           18 |   3003922 |   3004192 | 18_3003922 |           1 | ...   |\n",
       "|           18 |   3004806 |   3004908 | 18_3004806 |           0 | ...   |\n",
       "|           18 |   3005107 |   3005389 | 18_3005107 |           1 | ...   |\n",
       "|           18 |   3005448 |   3006448 | 18_3005448 |           0 | ...   |\n",
       "|           18 |   3006632 |   3006875 | 18_3006632 |           0 | ...   |\n",
       "|           18 |   3006980 |   3007068 | 18_3006980 |           0 | ...   |\n",
       "|           18 |   3008020 |   3008140 | 18_3008020 |           0 | ...   |\n",
       "+--------------+-----------+-----------+------------+-------------+-------+\n",
       "Unstranded PyRanges object has 8 rows and 10 columns from 1 chromosomes.\n",
       "For printing, the PyRanges was sorted on Chromosome.\n",
       "5 hidden columns: TT_S1, TT_S2, Score, width, strand"
      ]
     },
     "execution_count": 39,
     "metadata": {},
     "output_type": "execute_result"
    }
   ],
   "source": [
    "open_ranges_18.head()"
   ]
  },
  {
   "cell_type": "code",
   "execution_count": 40,
   "id": "0787a6a1",
   "metadata": {},
   "outputs": [
    {
     "name": "stdout",
     "output_type": "stream",
     "text": [
      "+--------------+-----------+-----------+-------------+-----------+------------+\n",
      "| Chromosome   | Start     | End       | name        | Score     | strand     |\n",
      "| (category)   | (int64)   | (int64)   | (object)    | (int64)   | (object)   |\n",
      "|--------------+-----------+-----------+-------------+-----------+------------|\n",
      "| 18           | 3002193   | 3002647   | 18_3002193  | 12        | .          |\n",
      "| 18           | 3003922   | 3004192   | 18_3003922  | 12        | .          |\n",
      "| 18           | 3004806   | 3004908   | 18_3004806  | 11        | .          |\n",
      "| 18           | 3005107   | 3005389   | 18_3005107  | 20        | .          |\n",
      "| ...          | ...       | ...       | ...         | ...       | ...        |\n",
      "| 18           | 90598847  | 90598959  | 18_90598847 | 15        | .          |\n",
      "| 18           | 90599512  | 90599601  | 18_90599512 | 18        | .          |\n",
      "| 18           | 90599734  | 90599866  | 18_90599734 | 12        | .          |\n",
      "| 18           | 90600877  | 90600955  | 18_90600877 | 13        | .          |\n",
      "+--------------+-----------+-----------+-------------+-----------+------------+\n",
      "Unstranded PyRanges object has 84,237 rows and 6 columns from 1 chromosomes.\n",
      "For printing, the PyRanges was sorted on Chromosome.\n"
     ]
    }
   ],
   "source": [
    "open_short = open_ranges_18.drop(['TT_S0', 'TT_S1', 'TT_S2', 'width'])\n",
    "print(open_short)"
   ]
  },
  {
   "cell_type": "code",
   "execution_count": 41,
   "id": "6690ef1d",
   "metadata": {},
   "outputs": [
    {
     "data": {
      "text/html": [
       "<div>\n",
       "<style scoped>\n",
       "    .dataframe tbody tr th:only-of-type {\n",
       "        vertical-align: middle;\n",
       "    }\n",
       "\n",
       "    .dataframe tbody tr th {\n",
       "        vertical-align: top;\n",
       "    }\n",
       "\n",
       "    .dataframe thead th {\n",
       "        text-align: right;\n",
       "    }\n",
       "</style>\n",
       "<table border=\"1\" class=\"dataframe\">\n",
       "  <thead>\n",
       "    <tr style=\"text-align: right;\">\n",
       "      <th></th>\n",
       "      <th>Chromosome</th>\n",
       "      <th>Start</th>\n",
       "      <th>End</th>\n",
       "      <th>width</th>\n",
       "      <th>strand</th>\n",
       "      <th>study</th>\n",
       "    </tr>\n",
       "  </thead>\n",
       "  <tbody>\n",
       "    <tr>\n",
       "      <th>0</th>\n",
       "      <td>18</td>\n",
       "      <td>3000012</td>\n",
       "      <td>3000342</td>\n",
       "      <td>331</td>\n",
       "      <td>*</td>\n",
       "      <td>DNAseq</td>\n",
       "    </tr>\n",
       "    <tr>\n",
       "      <th>1</th>\n",
       "      <td>18</td>\n",
       "      <td>3004544</td>\n",
       "      <td>3004668</td>\n",
       "      <td>125</td>\n",
       "      <td>*</td>\n",
       "      <td>DNAseq</td>\n",
       "    </tr>\n",
       "    <tr>\n",
       "      <th>2</th>\n",
       "      <td>18</td>\n",
       "      <td>3005165</td>\n",
       "      <td>3005411</td>\n",
       "      <td>247</td>\n",
       "      <td>*</td>\n",
       "      <td>DNAseq</td>\n",
       "    </tr>\n",
       "    <tr>\n",
       "      <th>3</th>\n",
       "      <td>18</td>\n",
       "      <td>3005785</td>\n",
       "      <td>3006003</td>\n",
       "      <td>219</td>\n",
       "      <td>*</td>\n",
       "      <td>DNAseq</td>\n",
       "    </tr>\n",
       "    <tr>\n",
       "      <th>4</th>\n",
       "      <td>18</td>\n",
       "      <td>3039453</td>\n",
       "      <td>3039587</td>\n",
       "      <td>135</td>\n",
       "      <td>*</td>\n",
       "      <td>DNAseq</td>\n",
       "    </tr>\n",
       "    <tr>\n",
       "      <th>5</th>\n",
       "      <td>18</td>\n",
       "      <td>3117979</td>\n",
       "      <td>3118328</td>\n",
       "      <td>350</td>\n",
       "      <td>*</td>\n",
       "      <td>DNAseq</td>\n",
       "    </tr>\n",
       "    <tr>\n",
       "      <th>6</th>\n",
       "      <td>18</td>\n",
       "      <td>3280730</td>\n",
       "      <td>3281254</td>\n",
       "      <td>525</td>\n",
       "      <td>*</td>\n",
       "      <td>DNAseq</td>\n",
       "    </tr>\n",
       "    <tr>\n",
       "      <th>7</th>\n",
       "      <td>18</td>\n",
       "      <td>3336941</td>\n",
       "      <td>3337189</td>\n",
       "      <td>249</td>\n",
       "      <td>*</td>\n",
       "      <td>DNAseq</td>\n",
       "    </tr>\n",
       "  </tbody>\n",
       "</table>\n",
       "</div>"
      ],
      "text/plain": [
       "+--------------+-----------+-----------+-----------+--------------+------------+\n",
       "|   Chromosome |     Start |       End |     width | strand       | study      |\n",
       "|   (category) |   (int64) |   (int64) |   (int32) | (category)   | (object)   |\n",
       "|--------------+-----------+-----------+-----------+--------------+------------|\n",
       "|           18 |   3000012 |   3000342 |       331 | *            | DNAseq     |\n",
       "|           18 |   3004544 |   3004668 |       125 | *            | DNAseq     |\n",
       "|           18 |   3005165 |   3005411 |       247 | *            | DNAseq     |\n",
       "|           18 |   3005785 |   3006003 |       219 | *            | DNAseq     |\n",
       "|           18 |   3039453 |   3039587 |       135 | *            | DNAseq     |\n",
       "|           18 |   3117979 |   3118328 |       350 | *            | DNAseq     |\n",
       "|           18 |   3280730 |   3281254 |       525 | *            | DNAseq     |\n",
       "|           18 |   3336941 |   3337189 |       249 | *            | DNAseq     |\n",
       "+--------------+-----------+-----------+-----------+--------------+------------+\n",
       "Unstranded PyRanges object has 8 rows and 6 columns from 1 chromosomes.\n",
       "For printing, the PyRanges was sorted on Chromosome."
      ]
     },
     "execution_count": 41,
     "metadata": {},
     "output_type": "execute_result"
    }
   ],
   "source": [
    "open_short.to_bed(\"open_ranges_18.bed\")\n",
    "dnaseq_ranges_18.to_bed(\"dnaseq_ranges_18.bed\")\n",
    "dnaseq_ranges_18.head()"
   ]
  },
  {
   "cell_type": "code",
   "execution_count": 42,
   "id": "a67eb24c",
   "metadata": {},
   "outputs": [],
   "source": [
    "dnaseq_df = dnaseq_ranges_18.df\n",
    "dnaseq_df.rename(columns={'study' : 'name'}, inplace=True)\n",
    "dnaseq_df['strand'] = '.'\n",
    "dnaseq_df['score'] = '1'\n",
    "dnaseq_df = dnaseq_df[['Chromosome', 'Start', 'End', 'name', 'score', 'strand']]\n",
    "dnaseq_df.head()\n",
    "\n",
    "dnaseq_df.to_csv(\"dnaseq.bed\", sep='\\t', index=False, header=False)"
   ]
  },
  {
   "cell_type": "code",
   "execution_count": 43,
   "id": "93fdf030",
   "metadata": {},
   "outputs": [],
   "source": [
    "import pyranges as pr\n",
    "\n",
    "def print_overlaps(open, dnaseq):\n",
    "    open_ranges = pr.PyRanges(open)\n",
    "    dnaseq_ranges = pr.PyRanges(dnaseq)\n",
    "\n",
    "    open_ranges_18 = open_ranges['18']\n",
    "    dnaseq_ranges_18 = dnaseq_ranges['18']\n",
    "\n",
    "    overlaps = open_ranges_18.overlap(dnaseq_ranges_18)\n",
    "    intersections = open_ranges_18.intersect(dnaseq_ranges_18)\n",
    "\n",
    "    print(overlaps)\n",
    "    print(\"ILGIS: \", overlaps.length)\n",
    "\n",
    "    print(intersections)\n",
    "    print(\"ILGIS: \", intersections.length)\n",
    "\n",
    "    print(\"Jaccard index: \",  intersections.length/overlaps.length)"
   ]
  },
  {
   "cell_type": "code",
   "execution_count": 44,
   "id": "b637ec4a",
   "metadata": {},
   "outputs": [
    {
     "name": "stdout",
     "output_type": "stream",
     "text": [
      "33480885\n",
      "893356\n"
     ]
    }
   ],
   "source": [
    "print(open_ranges_18.length)\n",
    "print(dnaseq_ranges_18.length)"
   ]
  },
  {
   "cell_type": "code",
   "execution_count": 45,
   "id": "2dcffdc9",
   "metadata": {},
   "outputs": [
    {
     "name": "stdout",
     "output_type": "stream",
     "text": [
      "IntervalIndex([[3002093, 3002193), [3003822, 3003922), [3004706, 3004806), [3005007, 3005107), [3005348, 3005448) ... [90597607, 90597707), [90598747, 90598847), [90599412, 90599512), [90599634, 90599734), [90600777, 90600877)],\n",
      "              closed='left',\n",
      "              dtype='interval[int64]')\n",
      "IntervalIndex([[3002647, 3002747), [3004192, 3004292), [3004908, 3005008), [3005389, 3005489), [3006448, 3006548) ... [90597803, 90597903), [90598959, 90599059), [90599601, 90599701), [90599866, 90599966), [90600955, 90601055)],\n",
      "              closed='left',\n",
      "              dtype='interval[int64]')\n",
      "IntervalIndex([[3002193, 3002647), [3003922, 3004192), [3004806, 3004908), [3005107, 3005389), [3005448, 3006448) ... [90597707, 90597803), [90598847, 90598959), [90599512, 90599601), [90599734, 90599866), [90600877, 90600955)],\n",
      "              closed='left',\n",
      "              dtype='interval[int64]')\n"
     ]
    }
   ],
   "source": [
    "#PRE\n",
    "to_array_pre = open_regions[\"start\"]\n",
    "from_array_pre = to_array_pre - 100\n",
    "\n",
    "bins_pre = pd.IntervalIndex.from_arrays(from_array_pre, to_array_pre, closed=\"left\")\n",
    "print(bins_pre)\n",
    "\n",
    "#POST\n",
    "from_array_post = open_regions[\"end\"]\n",
    "to_array_post = from_array_post + 100\n",
    "\n",
    "bins_post = pd.IntervalIndex.from_arrays(from_array_post, to_array_post, closed=\"left\")\n",
    "print(bins_post)\n",
    "\n",
    "#OPEN\n",
    "from_array_open = open_regions[\"start\"]\n",
    "to_array_open = open_regions[\"end\"]\n",
    "\n",
    "bins_open = pd.IntervalIndex.from_arrays(from_array_open, to_array_open, closed=\"left\")\n",
    "print(bins_open)"
   ]
  },
  {
   "cell_type": "code",
   "execution_count": 46,
   "id": "7c8ac242",
   "metadata": {},
   "outputs": [
    {
     "name": "stdout",
     "output_type": "stream",
     "text": [
      "  seqnames     start       end        CG_ID  TT_S0  TT_S1  TT_S2\n",
      "0       18  10000018  10000018  18_10000018    0.0    0.0    0.0\n",
      "1       18  10000117  10000117  18_10000117    0.0    0.0    0.0\n",
      "2       18  10000155  10000155  18_10000155    0.0    0.0    1.0\n",
      "3       18  10000222  10000222  18_10000222    0.0    4.0    0.0\n",
      "4       18  10000281  10000281  18_10000281    0.0    0.0    0.0\n",
      "\n"
     ]
    }
   ],
   "source": [
    "import pyreadr\n",
    "\n",
    "result = pyreadr.read_r('../Data/exampleForLukas.RDS')\n",
    "df = result[None]\n",
    "print(df.head())\n",
    "print()\n",
    "\n"
   ]
  },
  {
   "cell_type": "code",
   "execution_count": 47,
   "id": "99016818",
   "metadata": {},
   "outputs": [
    {
     "name": "stdout",
     "output_type": "stream",
     "text": [
      "        seqnames    start      end       CG_ID  TT_S0  TT_S1  TT_S2 open_bin  \\\n",
      "7037511       19  9999950  9999950  19_9999950    0.0    0.0    0.0      NaN   \n",
      "7037512       19  9999960  9999960  19_9999960    1.0    0.0    0.0      NaN   \n",
      "7037513       19  9999966  9999966  19_9999966    0.0    1.0    1.0      NaN   \n",
      "7037514       19  9999979  9999979  19_9999979    0.0    0.0    0.0      NaN   \n",
      "7037515       19  9999987  9999987  19_9999987    1.0    0.0    0.0      NaN   \n",
      "\n",
      "        pre_bin post_bin  count  \n",
      "7037511     NaN      NaN      1  \n",
      "7037512     NaN      NaN      1  \n",
      "7037513     NaN      NaN      1  \n",
      "7037514     NaN      NaN      1  \n",
      "7037515     NaN      NaN      1  \n"
     ]
    }
   ],
   "source": [
    "df[\"open_bin\"] = pd.cut(df['start'], bins=bins_open)\n",
    "df[\"pre_bin\"] = pd.cut(df['start'], bins=bins_pre)\n",
    "df[\"post_bin\"] = pd.cut(df['start'], bins=bins_post)\n",
    "\n",
    "df[\"count\"] = df[\"end\"] - df[\"start\"] + 1\n",
    "\n",
    "print(df.tail())"
   ]
  },
  {
   "cell_type": "code",
   "execution_count": 48,
   "id": "0b8cce6f",
   "metadata": {},
   "outputs": [
    {
     "name": "stdout",
     "output_type": "stream",
     "text": [
      "['18', '19']\n",
      "Categories (2, object): ['18', '19']\n"
     ]
    }
   ],
   "source": [
    "print(df['seqnames'].unique())"
   ]
  },
  {
   "cell_type": "code",
   "execution_count": 49,
   "id": "a45151c9",
   "metadata": {},
   "outputs": [
    {
     "name": "stdout",
     "output_type": "stream",
     "text": [
      "  seqnames     start       end        CG_ID  TT_S0  TT_S1  TT_S2                  open_bin                   pre_bin post_bin  count\n",
      "0       18  10000018  10000018  18_10000018    0.0    0.0    0.0                       NaN                       NaN      NaN      1\n",
      "1       18  10000117  10000117  18_10000117    0.0    0.0    0.0                       NaN                       NaN      NaN      1\n",
      "2       18  10000155  10000155  18_10000155    0.0    0.0    1.0                       NaN                       NaN      NaN      1\n",
      "3       18  10000222  10000222  18_10000222    0.0    4.0    0.0                       NaN  [10000191.0, 10000291.0)      NaN      1\n",
      "4       18  10000281  10000281  18_10000281    0.0    0.0    0.0                       NaN  [10000191.0, 10000291.0)      NaN      1\n",
      "5       18  10000291  10000291  18_10000291    0.0    0.0    0.0  [10000291.0, 10000480.0)                       NaN      NaN      1\n",
      "6       18  10000296  10000296  18_10000296    0.0    0.0    0.0  [10000291.0, 10000480.0)                       NaN      NaN      1\n",
      "7       18  10000316  10000316  18_10000316    0.0    0.0    2.0  [10000291.0, 10000480.0)                       NaN      NaN      1\n",
      "8       18  10000327  10000327  18_10000327    3.0    0.0    0.0  [10000291.0, 10000480.0)                       NaN      NaN      1\n",
      "9       18  10000332  10000332  18_10000332    0.0    1.0    0.0  [10000291.0, 10000480.0)                       NaN      NaN      1\n"
     ]
    }
   ],
   "source": [
    "pd.set_option('display.expand_frame_repr', False)\n",
    "pd.options.display.max_rows = 200\n",
    "print(df[0:10])"
   ]
  },
  {
   "cell_type": "code",
   "execution_count": 50,
   "id": "a6286c63",
   "metadata": {},
   "outputs": [
    {
     "name": "stdout",
     "output_type": "stream",
     "text": [
      "        seqnames    start      end       CG_ID  TT_S0  TT_S1  TT_S2                open_bin                 pre_bin post_bin  count\n",
      "5042950       19  3001824  3001824  19_3001824    0.0    0.0    0.0                     NaN                     NaN      NaN      1\n",
      "872551        18  3001831  3001831  18_3001831    0.0    0.0    0.0                     NaN                     NaN      NaN      1\n",
      "5042958       19  3001835  3001835  19_3001835    0.0    0.0    0.0                     NaN                     NaN      NaN      1\n",
      "5042968       19  3001860  3001860  19_3001860    0.0    0.0    0.0                     NaN                     NaN      NaN      1\n",
      "872565        18  3001863  3001863  18_3001863    0.0    0.0    0.0                     NaN                     NaN      NaN      1\n",
      "5042983       19  3001894  3001894  19_3001894    0.0    0.0    0.0                     NaN                     NaN      NaN      1\n",
      "5042988       19  3001902  3001902  19_3001902    0.0    0.0    0.0                     NaN                     NaN      NaN      1\n",
      "5042994       19  3001907  3001907  19_3001907    0.0    0.0    0.0                     NaN                     NaN      NaN      1\n",
      "5042998       19  3001913  3001913  19_3001913    0.0    0.0    0.0                     NaN                     NaN      NaN      1\n",
      "872587        18  3001923  3001923  18_3001923    0.0    0.0    0.0                     NaN                     NaN      NaN      1\n",
      "5043012       19  3001940  3001940  19_3001940    0.0    0.0    0.0                     NaN                     NaN      NaN      1\n",
      "5043021       19  3001964  3001964  19_3001964    0.0    0.0    0.0                     NaN                     NaN      NaN      1\n",
      "5043027       19  3001976  3001976  19_3001976    0.0    0.0    0.0                     NaN                     NaN      NaN      1\n",
      "872616        18  3001983  3001983  18_3001983    0.0    0.0    1.0                     NaN                     NaN      NaN      1\n",
      "872628        18  3002004  3002004  18_3002004    1.0    0.0    0.0                     NaN                     NaN      NaN      1\n",
      "5043051       19  3002022  3002022  19_3002022    0.0    0.0    0.0                     NaN                     NaN      NaN      1\n",
      "5043053       19  3002029  3002029  19_3002029    0.0    0.0    0.0                     NaN                     NaN      NaN      1\n",
      "5043063       19  3002064  3002064  19_3002064    0.0    0.0    0.0                     NaN                     NaN      NaN      1\n",
      "5043065       19  3002065  3002065  19_3002065    0.0    0.0    0.0                     NaN                     NaN      NaN      1\n",
      "5043067       19  3002067  3002067  19_3002067    0.0    0.0    0.0                     NaN                     NaN      NaN      1\n",
      "5043071       19  3002073  3002073  19_3002073    0.0    0.0    0.0                     NaN                     NaN      NaN      1\n",
      "872655        18  3002075  3002075  18_3002075    0.0    0.0    2.0                     NaN                     NaN      NaN      1\n",
      "5043074       19  3002077  3002077  19_3002077    0.0    0.0    0.0                     NaN                     NaN      NaN      1\n",
      "872656        18  3002077  3002077  18_3002077    0.0    0.0    0.0                     NaN                     NaN      NaN      1\n",
      "5043077       19  3002079  3002079  19_3002079    0.0    0.0    0.0                     NaN                     NaN      NaN      1\n",
      "5043086       19  3002095  3002095  19_3002095    0.0    0.0    0.0                     NaN  [3002093.0, 3002193.0)      NaN      1\n",
      "5043087       19  3002103  3002103  19_3002103    0.0    0.0    0.0                     NaN  [3002093.0, 3002193.0)      NaN      1\n",
      "872684        18  3002132  3002132  18_3002132    0.0    0.0    0.0                     NaN  [3002093.0, 3002193.0)      NaN      1\n",
      "5043100       19  3002133  3002133  19_3002133    0.0    0.0    0.0                     NaN  [3002093.0, 3002193.0)      NaN      1\n",
      "5043103       19  3002135  3002135  19_3002135    0.0    0.0    0.0                     NaN  [3002093.0, 3002193.0)      NaN      1\n",
      "5043106       19  3002141  3002141  19_3002141    0.0    0.0    0.0                     NaN  [3002093.0, 3002193.0)      NaN      1\n",
      "5043110       19  3002159  3002159  19_3002159    0.0    0.0    0.0                     NaN  [3002093.0, 3002193.0)      NaN      1\n",
      "5043113       19  3002166  3002166  19_3002166    0.0    0.0    0.0                     NaN  [3002093.0, 3002193.0)      NaN      1\n",
      "5043118       19  3002171  3002171  19_3002171    0.0    0.0    0.0                     NaN  [3002093.0, 3002193.0)      NaN      1\n",
      "872701        18  3002193  3002193  18_3002193    0.0    0.0    3.0  [3002193.0, 3002647.0)                     NaN      NaN      1\n",
      "5043123       19  3002194  3002194  19_3002194    0.0    0.0    0.0  [3002193.0, 3002647.0)                     NaN      NaN      1\n",
      "5043130       19  3002205  3002205  19_3002205    0.0    0.0    0.0  [3002193.0, 3002647.0)                     NaN      NaN      1\n",
      "5043132       19  3002208  3002208  19_3002208    0.0    0.0    0.0  [3002193.0, 3002647.0)                     NaN      NaN      1\n",
      "872708        18  3002211  3002211  18_3002211    1.0    0.0    0.0  [3002193.0, 3002647.0)                     NaN      NaN      1\n",
      "872710        18  3002218  3002218  18_3002218    0.0    1.0    0.0  [3002193.0, 3002647.0)                     NaN      NaN      1\n",
      "5043140       19  3002219  3002219  19_3002219    0.0    0.0    0.0  [3002193.0, 3002647.0)                     NaN      NaN      1\n",
      "872718        18  3002233  3002233  18_3002233    3.0    0.0    0.0  [3002193.0, 3002647.0)                     NaN      NaN      1\n",
      "5043145       19  3002235  3002235  19_3002235    0.0    0.0    0.0  [3002193.0, 3002647.0)                     NaN      NaN      1\n",
      "872721        18  3002236  3002236  18_3002236    0.0    0.0    0.0  [3002193.0, 3002647.0)                     NaN      NaN      1\n",
      "5043147       19  3002237  3002237  19_3002237    0.0    0.0    0.0  [3002193.0, 3002647.0)                     NaN      NaN      1\n",
      "872726        18  3002253  3002253  18_3002253    0.0    0.0    0.0  [3002193.0, 3002647.0)                     NaN      NaN      1\n",
      "872734        18  3002269  3002269  18_3002269    0.0    0.0    0.0  [3002193.0, 3002647.0)                     NaN      NaN      1\n",
      "5043164       19  3002277  3002277  19_3002277    0.0    0.0    0.0  [3002193.0, 3002647.0)                     NaN      NaN      1\n",
      "872747        18  3002295  3002295  18_3002295    7.0    0.0    0.0  [3002193.0, 3002647.0)                     NaN      NaN      1\n",
      "5043178       19  3002299  3002299  19_3002299    0.0    0.0    0.0  [3002193.0, 3002647.0)                     NaN      NaN      1\n",
      "seqnames    category\n",
      "start          int32\n",
      "end            int32\n",
      "CG_ID         object\n",
      "TT_S0        float64\n",
      "TT_S1        float64\n",
      "TT_S2        float64\n",
      "open_bin    category\n",
      "pre_bin     category\n",
      "post_bin    category\n",
      "count          int32\n",
      "dtype: object\n",
      "3000017\n"
     ]
    }
   ],
   "source": [
    "df = df.sort_values(by='start')\n",
    "print(df[200:250])\n",
    "print(df.dtypes)\n",
    "print(df['start'].min())"
   ]
  },
  {
   "cell_type": "code",
   "execution_count": 51,
   "id": "09a2122b",
   "metadata": {},
   "outputs": [],
   "source": [
    "open = df.groupby('open_bin').sum()\n",
    "pre = df.groupby('pre_bin').sum()\n",
    "post = df.groupby('post_bin').sum()\n"
   ]
  },
  {
   "cell_type": "code",
   "execution_count": 52,
   "metadata": {},
   "outputs": [
    {
     "name": "stdout",
     "output_type": "stream",
     "text": [
      "                          start          end  TT_S0  TT_S1  TT_S2  count  TT_S0_norm\n",
      "open_bin                                                                            \n",
      "[3002193, 3002647)  144115331.0  144115331.0   36.0   20.0    6.0   48.0    0.750000\n",
      "[3003922, 3004192)   63084797.0   63084797.0    8.0    1.0    2.0   21.0    0.380952\n",
      "[3004806, 3004908)   33053433.0   33053433.0   10.0    0.0    0.0   11.0    0.909091\n",
      "[3005107, 3005389)   99173194.0   99173194.0   91.0   32.0   17.0   33.0    2.757576\n",
      "[3005448, 3006448)  312612936.0  312612936.0  976.0  339.0  228.0  104.0    9.384615\n",
      "                         start         end  TT_S0  TT_S1  TT_S2  count  TT_S0_norm\n",
      "post_bin                                                                          \n",
      "[3002647, 3002747)  24021565.0  24021565.0    0.0    0.0    0.0    8.0    0.000000\n",
      "[3004192, 3004292)  24033917.0  24033917.0    3.0    4.0    3.0    8.0    0.375000\n",
      "[3004908, 3005008)  18029691.0  18029691.0    3.0    2.0    1.0    6.0    0.500000\n",
      "[3005389, 3005489)  33059914.0  33059914.0   18.0    6.0    9.0   11.0    1.636364\n",
      "[3006448, 3006548)  18038819.0  18038819.0    0.0    0.0    0.0    6.0    0.000000\n",
      "                         start         end  TT_S0  TT_S1  TT_S2  count  TT_S0_norm\n",
      "pre_bin                                                                           \n",
      "[3002093, 3002193)  27019235.0  27019235.0    0.0    0.0    0.0    9.0         0.0\n",
      "[3003822, 3003922)  33042591.0  33042591.0    0.0    1.0    0.0   11.0         0.0\n",
      "[3004706, 3004806)  33052303.0  33052303.0    0.0    0.0    0.0   11.0         0.0\n",
      "[3005007, 3005107)   3005062.0   3005062.0    0.0    0.0    0.0    1.0         0.0\n",
      "[3005348, 3005448)  27048469.0  27048469.0    0.0    0.0    0.0    9.0         0.0\n"
     ]
    }
   ],
   "source": [
    "open['TT_S0_norm'] = open['TT_S0']/open['count']\n",
    "post['TT_S0_norm'] = post['TT_S0']/post['count']\n",
    "pre['TT_S0_norm'] = pre['TT_S0']/pre['count']\n",
    "\n",
    "print(open.head())\n",
    "print(post.head())\n",
    "print(pre.head())"
   ]
  },
  {
   "cell_type": "code",
   "execution_count": 53,
   "id": "5700fead",
   "metadata": {},
   "outputs": [
    {
     "name": "stdout",
     "output_type": "stream",
     "text": [
      "                    pre_bin        start          end  TT_S0  TT_S1  TT_S2  count  TT_S0_norm\n",
      "0        [3002093, 3002193)   27019235.0   24021565.0    0.0    0.0    0.0    9.0    0.000000\n",
      "1        [3003822, 3003922)   33042591.0   24033917.0    0.0    1.0    0.0   11.0    0.000000\n",
      "2        [3004706, 3004806)   33052303.0   18029691.0    0.0    0.0    0.0   11.0    0.000000\n",
      "3        [3005007, 3005107)    3005062.0   33059914.0    0.0    0.0    0.0    1.0    0.000000\n",
      "4        [3005348, 3005448)   27048469.0   18038819.0    0.0    0.0    0.0    9.0    0.000000\n",
      "...                     ...          ...          ...    ...    ...    ...    ...         ...\n",
      "84232  [90597607, 90597707)  181195259.0  362391412.0    1.0   13.0    0.0    2.0    0.500000\n",
      "84233  [90598747, 90598847)  271796404.0   90598960.0    1.0    3.0    0.0    3.0    0.333333\n",
      "84234  [90599412, 90599512)   90599467.0  362398515.0    1.0    0.0    0.0    1.0    1.000000\n",
      "84235  [90599634, 90599734)  362398725.0  452999530.0    0.0    0.0    0.0    4.0    0.000000\n",
      "84236  [90600777, 90600877)  181201596.0  271802954.0    0.0    1.0    0.0    2.0    0.000000\n",
      "\n",
      "[84237 rows x 8 columns]\n",
      "              pre_bin       start         end  TT_S0  TT_S1  TT_S2  count  TT_S0_norm\n",
      "0  [3002093, 3002193)  27019235.0  24021565.0    0.0    0.0    0.0    9.0    0.000000\n",
      "1  [3003822, 3003922)  33042591.0  24033917.0    3.0    5.0    3.0   11.0    0.272727\n",
      "2  [3004706, 3004806)  33052303.0  18029691.0    3.0    2.0    1.0   11.0    0.272727\n",
      "3  [3005007, 3005107)   3005062.0  33059914.0   18.0    6.0    9.0    1.0   18.000000\n",
      "4  [3005348, 3005448)  27048469.0  18038819.0    0.0    0.0    0.0    9.0    0.000000\n",
      "                         start         end  TT_S0  TT_S1  TT_S2  count  TT_S0_norm\n",
      "post_bin                                                                          \n",
      "[3002647, 3002747)  24021565.0  24021565.0    0.0    0.0    0.0    8.0    0.000000\n",
      "[3004192, 3004292)  24033917.0  24033917.0    3.0    4.0    3.0    8.0    0.375000\n",
      "[3004908, 3005008)  18029691.0  18029691.0    3.0    2.0    1.0    6.0    0.500000\n",
      "[3005389, 3005489)  33059914.0  33059914.0   18.0    6.0    9.0   11.0    1.636364\n",
      "[3006448, 3006548)  18038819.0  18038819.0    0.0    0.0    0.0    6.0    0.000000\n",
      "                         start         end  TT_S0  TT_S1  TT_S2  count  TT_S0_norm\n",
      "pre_bin                                                                           \n",
      "[3002093, 3002193)  27019235.0  27019235.0    0.0    0.0    0.0    9.0         0.0\n",
      "[3003822, 3003922)  33042591.0  33042591.0    0.0    1.0    0.0   11.0         0.0\n",
      "[3004706, 3004806)  33052303.0  33052303.0    0.0    0.0    0.0   11.0         0.0\n",
      "[3005007, 3005107)   3005062.0   3005062.0    0.0    0.0    0.0    1.0         0.0\n",
      "[3005348, 3005448)  27048469.0  27048469.0    0.0    0.0    0.0    9.0         0.0\n"
     ]
    }
   ],
   "source": [
    "surround = pre.reset_index()\n",
    "surround['end'] = post['end'].reset_index(drop=True)\n",
    "print(surround)\n",
    "\n",
    "surround['TT_S0'] = pre['TT_S0'].reset_index() + post['TT_S0'].reset_index()\n",
    "surround['TT_S1'] = pre['TT_S1'].reset_index() + post['TT_S1'].reset_index()\n",
    "surround['TT_S2'] = pre['TT_S2'].reset_index() + post['TT_S2'].reset_index()\n",
    "\n",
    "surround['TT_S0_norm'] = surround['TT_S0']/surround['count']\n",
    "\n",
    "print(surround.head())\n",
    "print(post.head())\n",
    "print(pre.head())\n"
   ]
  },
  {
   "cell_type": "code",
   "execution_count": 54,
   "id": "558f0057",
   "metadata": {},
   "outputs": [
    {
     "name": "stdout",
     "output_type": "stream",
     "text": [
      "7037516\n",
      "5728211.0\n",
      "0.8139535313312254\n"
     ]
    }
   ],
   "source": [
    "df_targets = df[\"count\"].sum()\n",
    "df_signal = df[\"TT_S0\"].sum()\n",
    "\n",
    "df_signal_norm = df_signal/df_targets\n",
    "\n",
    "print(df_targets)\n",
    "print(df_signal)\n",
    "print(df_signal_norm)"
   ]
  },
  {
   "cell_type": "code",
   "execution_count": 55,
   "id": "5ad51fca",
   "metadata": {},
   "outputs": [
    {
     "name": "stdout",
     "output_type": "stream",
     "text": [
      "             open_bin        start          end  TT_S0  TT_S1  TT_S2  count  TT_S0_norm\n",
      "0  [3002193, 3002647)  144115331.0  144115331.0   36.0   20.0    6.0   48.0    0.750000\n",
      "1  [3003922, 3004192)   63084797.0   63084797.0    8.0    1.0    2.0   21.0    0.380952\n",
      "2  [3004806, 3004908)   33053433.0   33053433.0   10.0    0.0    0.0   11.0    0.909091\n",
      "3  [3005107, 3005389)   99173194.0   99173194.0   91.0   32.0   17.0   33.0    2.757576\n",
      "4  [3005448, 3006448)  312612936.0  312612936.0  976.0  339.0  228.0  104.0    9.384615\n",
      "              pre_bin       start         end  TT_S0  TT_S1  TT_S2  count  TT_S0_norm\n",
      "0  [3002093, 3002193)  27019235.0  24021565.0    0.0    0.0    0.0    9.0    0.000000\n",
      "1  [3003822, 3003922)  33042591.0  24033917.0    3.0    5.0    3.0   11.0    0.272727\n",
      "2  [3004706, 3004806)  33052303.0  18029691.0    3.0    2.0    1.0   11.0    0.272727\n",
      "3  [3005007, 3005107)   3005062.0  33059914.0   18.0    6.0    9.0    1.0   18.000000\n",
      "4  [3005348, 3005448)  27048469.0  18038819.0    0.0    0.0    0.0    9.0    0.000000\n",
      "             open_bin        start          end  TT_S0  TT_S1  TT_S2  count  TT_S0_norm  surround_signal\n",
      "0  [3002193, 3002647)  144115331.0  144115331.0   36.0   20.0    6.0   48.0    0.750000         0.000000\n",
      "1  [3003922, 3004192)   63084797.0   63084797.0    8.0    1.0    2.0   21.0    0.380952         0.272727\n",
      "2  [3004806, 3004908)   33053433.0   33053433.0   10.0    0.0    0.0   11.0    0.909091         0.272727\n",
      "3  [3005107, 3005389)   99173194.0   99173194.0   91.0   32.0   17.0   33.0    2.757576        18.000000\n",
      "4  [3005448, 3006448)  312612936.0  312612936.0  976.0  339.0  228.0  104.0    9.384615         0.000000\n"
     ]
    }
   ],
   "source": [
    "open = open.reset_index()\n",
    "\n",
    "print(open.head())\n",
    "print(surround.head())\n",
    "\n",
    "open[\"surround_signal\"] = surround['TT_S0_norm']\n",
    "\n",
    "print(open.head())\n",
    "#open.drop('TT_S1', axis=1, inplace=True)\n",
    "#open.drop('TT_S2', axis=1, inplace=True)"
   ]
  },
  {
   "cell_type": "code",
   "execution_count": 56,
   "id": "417a7246",
   "metadata": {},
   "outputs": [
    {
     "name": "stdout",
     "output_type": "stream",
     "text": [
      "              open_bin         start           end  TT_S0  TT_S1  TT_S2  count  TT_S0_norm  surround_signal      ratio     ratio2\n",
      "0   [3002193, 3002647)  1.441153e+08  1.441153e+08   36.0   20.0    6.0   48.0    0.750000         0.000000        inf   0.921429\n",
      "1   [3003922, 3004192)  6.308480e+07  6.308480e+07    8.0    1.0    2.0   21.0    0.380952         0.272727   1.396825   0.468027\n",
      "2   [3004806, 3004908)  3.305343e+07  3.305343e+07   10.0    0.0    0.0   11.0    0.909091         0.272727   3.333333   1.116883\n",
      "3   [3005107, 3005389)  9.917319e+07  9.917319e+07   91.0   32.0   17.0   33.0    2.757576        18.000000   0.153199   3.387879\n",
      "4   [3005448, 3006448)  3.126129e+08  3.126129e+08  976.0  339.0  228.0  104.0    9.384615         0.000000        inf  11.529670\n",
      "5   [3006632, 3006875)  5.412119e+07  5.412119e+07    7.0    3.0    0.0   18.0    0.388889         0.142857   2.722222   0.477778\n",
      "6   [3006980, 3007068)  3.007014e+07  3.007014e+07    8.0    8.0    2.0   10.0    0.800000         0.100000   8.000000   0.982857\n",
      "7   [3008020, 3008140)  4.211298e+07  4.211298e+07    9.0    3.0    6.0   14.0    0.642857         0.400000   1.607143   0.789796\n",
      "8   [3008678, 3008923)  5.114869e+07  5.114869e+07    9.0   10.0    2.0   17.0    0.529412         0.272727   1.941176   0.650420\n",
      "9   [3009001, 3009259)  1.263824e+08  1.263824e+08   25.0   33.0   25.0   42.0    0.595238         0.222222   2.678571   0.731292\n",
      "10  [3009832, 3011047)  3.913530e+08  3.913530e+08  166.0   72.0   60.0  130.0    1.276923         0.000000        inf   1.568791\n",
      "11  [3011106, 3011281)  5.420135e+07  5.420135e+07   15.0    1.0    7.0   18.0    0.833333         0.333333   2.500000   1.023809\n",
      "12  [3012144, 3012252)  3.313406e+07  3.313406e+07    6.0    5.0    5.0   11.0    0.545455         0.400000   1.363636   0.670130\n",
      "13  [3012485, 3013062)  2.380053e+08  2.380053e+08   77.0   66.0   28.0   79.0    0.974684         0.333333   2.924051   1.197468\n",
      "14  [3013139, 3013454)  6.327934e+07  6.327934e+07   20.0   10.0    6.0   21.0    0.952381         0.166667   5.714286   1.170068\n",
      "15  [3013521, 3013761)  5.424538e+07  5.424538e+07   14.0    5.0   10.0   18.0    0.777778         1.000000   0.777778   0.955556\n",
      "16  [3014905, 3015095)  6.331492e+07  6.331492e+07   11.0   10.0    6.0   21.0    0.523810         1.500000   0.349206   0.643537\n",
      "17  [3015325, 3015645)  8.744879e+07  8.744879e+07   19.0    8.0    4.0   29.0    0.655172         0.250000   2.620690   0.804926\n",
      "18  [3016107, 3016284)  4.222638e+07  4.222638e+07   13.0    5.0    5.0   14.0    0.928571         0.125000   7.428571   1.140816\n",
      "19  [3016401, 3016643)  6.334660e+07  6.334660e+07   21.0   15.0   10.0   21.0    1.000000         1.500000   0.666667   1.228571\n",
      "20  [3017992, 3018157)  5.432505e+07  5.432505e+07   15.0    7.0    2.0   18.0    0.833333         0.000000        inf   1.023809\n",
      "21  [3020628, 3020825)  6.645632e+07  6.645632e+07   32.0    4.0    5.0   22.0    1.454545         0.142857  10.181818   1.787013\n",
      "22  [3029569, 3029658)  2.120718e+07  2.120718e+07    5.0    2.0    1.0    7.0    0.714286         0.000000        inf   0.877551\n",
      "23  [3031032, 3031247)  1.151831e+08  1.151831e+08   14.0    9.0   12.0   38.0    0.368421         0.083333   4.421053   0.452632\n",
      "24  [3038052, 3038133)  1.822841e+07  1.822841e+07    5.0    3.0    2.0    6.0    0.833333         0.000000        inf   1.023809\n",
      "25  [3038438, 3038571)  8.507818e+07  8.507818e+07   12.0    0.0    8.0   28.0    0.428571         0.076923   5.571429   0.526531\n",
      "26  [3039391, 3039804)  1.945335e+08  1.945335e+08   40.0   34.0   30.0   64.0    0.625000         0.166667   3.750000   0.767857\n",
      "27  [3039883, 3040187)  2.006425e+08  2.006425e+08   33.0   12.0    9.0   66.0    0.500000         0.117647   4.250000   0.614286\n",
      "28  [3040429, 3040601)  6.993165e+07  6.993165e+07   14.0   26.0    9.0   23.0    0.608696         0.166667   3.652174   0.747826\n",
      "29  [3040843, 3040931)  2.128612e+07  2.128612e+07    5.0    3.0    4.0    7.0    0.714286         0.333333   2.142857   0.877551\n",
      "30  [3041274, 3041773)  2.068224e+08  2.068224e+08   50.0   28.0   38.0   68.0    0.735294         0.142857   5.147059   0.903361\n",
      "31  [3042449, 3042539)  3.042481e+07  3.042481e+07    5.0    2.0    0.0   10.0    0.500000         0.000000        inf   0.614286\n",
      "32  [3044755, 3044848)  2.740315e+07  2.740315e+07    5.0    1.0    5.0    9.0    0.555556         0.000000        inf   0.682540\n",
      "33  [3046195, 3046324)  3.350859e+07  3.350859e+07    9.0    0.0    3.0   11.0    0.818182         0.444444   1.840909   1.005195\n",
      "34  [3046772, 3046923)  5.789009e+07  5.789009e+07   10.0    8.0    1.0   19.0    0.526316         0.222222   2.368421   0.646617\n",
      "35  [3047073, 3047500)  2.407341e+08  2.407341e+08   25.0   29.0   15.0   79.0    0.316456         0.250000   1.265823   0.388788\n",
      "36  [3051777, 3051979)  9.460845e+07  9.460845e+07   19.0   25.0   24.0   31.0    0.612903         0.000000        inf   0.752995\n",
      "37  [3052316, 3052428)  3.357590e+07  3.357590e+07    5.0    1.0    0.0   11.0    0.454545         0.000000        inf   0.558442\n",
      "38  [3052677, 3061696)  2.687203e+09  2.687203e+09   33.0   33.0   30.0  879.0    0.037543         0.222222   0.168942   0.046124\n",
      "39  [3062217, 3062860)  1.684343e+08  1.684343e+08   14.0    1.0    0.0   55.0    0.254545         0.000000        inf   0.312727\n",
      "40  [3063812, 3063951)  3.983050e+07  3.983050e+07   12.0    8.0    0.0   13.0    0.923077         0.000000        inf   1.134066\n",
      "41  [3064161, 3064290)  6.128454e+07  6.128454e+07    9.0    1.0    5.0   20.0    0.450000         0.666667   0.675000   0.552857\n",
      "42  [3064946, 3065024)  2.451974e+07  2.451974e+07    6.0    2.0    2.0    8.0    0.750000         0.166667   4.500000   0.921429\n",
      "43  [3065724, 3065874)  6.744753e+07  6.744753e+07    9.0    1.0    0.0   22.0    0.409091         0.111111   3.681818   0.502597\n",
      "44  [3066088, 3066302)  8.585326e+07  8.585326e+07    9.0    1.0    6.0   28.0    0.321429         0.083333   3.857143   0.394898\n",
      "45  [3066434, 3066693)  1.011968e+08  1.011968e+08   14.0   22.0   29.0   33.0    0.424242         0.000000        inf   0.521212\n",
      "46  [3071752, 3071941)  7.372383e+07  7.372383e+07   11.0    8.0    3.0   24.0    0.458333         0.500000   0.916667   0.563095\n",
      "47  [3080408, 3080498)  3.080437e+07  3.080437e+07   10.0    0.0    1.0   10.0    1.000000         0.545455   1.833333   1.228571\n",
      "48  [3080566, 3080771)  4.620946e+07  4.620946e+07   15.0   10.0    0.0   15.0    1.000000         0.166667   6.000000   1.228571\n",
      "49  [3086896, 3086995)  4.939086e+07  4.939086e+07    7.0    0.0    0.0   16.0    0.437500         0.083333   5.250000   0.537500\n",
      "50  [3091398, 3091580)  7.419562e+07  7.419562e+07    8.0    3.0    6.0   24.0    0.333333         0.250000   1.333333   0.409524\n",
      "51  [3092428, 3092770)  1.422599e+08  1.422599e+08   20.0    3.0    7.0   46.0    0.434783         0.400000   1.086957   0.534161\n",
      "52  [3099056, 3099151)  4.958552e+07  4.958552e+07    8.0   15.0    6.0   16.0    0.500000         0.200000   2.500000   0.614286\n",
      "53  [3101415, 3101602)  6.202975e+07  6.202975e+07   11.0   13.0    5.0   20.0    0.550000         0.125000   4.400000   0.675714\n",
      "54  [3101753, 3101934)  1.085646e+08  1.085646e+08   13.0    3.0    0.0   35.0    0.371429         0.166667   2.228571   0.456327\n",
      "55  [3113423, 3113971)  2.490940e+08  2.490940e+08   89.0   81.0   40.0   80.0    1.112500         0.133333   8.343750   1.366786\n",
      "56  [3114154, 3115867)  6.292330e+08  6.292330e+08  163.0   90.0   53.0  202.0    0.806931         0.285714   2.824257   0.991372\n",
      "57  [3116081, 3116278)  9.036903e+07  9.036903e+07   13.0    7.0    7.0   29.0    0.448276         0.000000        inf   0.550739\n",
      "58  [3116784, 3116894)  3.428518e+07  3.428518e+07   15.0    8.0   15.0   11.0    1.363636         0.181818   7.500000   1.675325\n",
      "59  [3117012, 3117384)  1.652109e+08  1.652109e+08   23.0    8.0    2.0   53.0    0.433962         0.230769   1.880503   0.533154\n",
      "60  [3119177, 3119624)  1.809259e+08  1.809259e+08   40.0   16.0    8.0   58.0    0.689655         0.076923   8.965517   0.847291\n",
      "61  [3120100, 3120748)  2.714771e+08  2.714771e+08   89.0   47.0   21.0   87.0    1.022989         0.125000   8.183908   1.256814\n",
      "62  [3131922, 3132061)  4.384794e+07  4.384794e+07   12.0    4.0    1.0   14.0    0.857143         0.923077   0.928571   1.053061\n",
      "63  [3133561, 3133723)  5.953877e+07  5.953877e+07    8.0    1.0    2.0   19.0    0.421053         0.333333   1.263158   0.517293\n",
      "64  [3146775, 3147097)  1.132891e+08  1.132891e+08   39.0   16.0   16.0   36.0    1.083333         0.000000        inf   1.330952\n",
      "65  [3150517, 3150656)  7.246333e+07  7.246333e+07   19.0   22.0    7.0   23.0    0.826087         0.545455   1.514493   1.014907\n",
      "66  [3155276, 3155539)  1.041286e+08  1.041286e+08   28.0   17.0    4.0   33.0    0.848485         1.000000   0.848485   1.042424\n",
      "67  [3155817, 3155898)  3.155852e+07  3.155852e+07    6.0    0.0    5.0   10.0    0.600000         0.312500   1.920000   0.737143\n",
      "68  [3156946, 3157051)  5.051197e+07  5.051197e+07    8.0   11.0    4.0   16.0    0.500000         0.583333   0.857143   0.614286\n",
      "69  [3158338, 3158441)  3.790068e+07  3.790068e+07   10.0    6.0    4.0   12.0    0.833333         1.000000   0.833333   1.023809\n",
      "70  [3160579, 3161088)  2.370607e+08  2.370607e+08   92.0   75.0   46.0   75.0    1.226667         3.555556   0.345000   1.507048\n",
      "71  [3161163, 3161326)  5.690214e+07  5.690214e+07   16.0   12.0   11.0   18.0    0.888889         1.272727   0.698413   1.092063\n",
      "72  [3164249, 3164410)  6.328636e+07  6.328636e+07   10.0    7.0    2.0   20.0    0.500000         0.500000   1.000000   0.614286\n",
      "73  [3167017, 3167100)  3.167046e+07  3.167046e+07   10.0    0.0    1.0   10.0    1.000000         0.200000   5.000000   1.228571\n",
      "74  [3168526, 3168965)  1.932934e+08  1.932934e+08   80.0   55.0   25.0   61.0    1.311475         0.916667   1.430700   1.611241\n",
      "75  [3169027, 3169368)  9.507524e+07  9.507524e+07   23.0   26.0   15.0   30.0    0.766667         3.100000   0.247312   0.941905\n",
      "76  [3171493, 3171568)  3.488665e+07  3.488665e+07   13.0   13.0    0.0   11.0    1.181818         2.727273   0.433333   1.451948\n",
      "77  [3171837, 3172164)  1.332234e+08  1.332234e+08   53.0   30.0   13.0   42.0    1.261905         0.454545   2.776190   1.550340\n",
      "78  [3172327, 3172585)  1.015177e+08  1.015177e+08   44.0   26.0    6.0   32.0    1.375000         1.500000   0.916667   1.689286\n",
      "79  [3172737, 3174558)  4.315957e+08  4.315957e+08   82.0   47.0   40.0  136.0    0.602941         0.545455   1.105392   0.740756\n",
      "80  [3175479, 3175684)  6.668657e+07  6.668657e+07    8.0    6.0    0.0   21.0    0.380952         0.090909   4.190476   0.468027\n",
      "81  [3176528, 3176678)  5.400219e+07  5.400219e+07   20.0    3.0    7.0   17.0    1.176471         0.111111  10.588235   1.445378\n",
      "82  [3176958, 3177160)  8.578027e+07  8.578027e+07   14.0   13.0    3.0   27.0    0.518519         0.111111   4.666667   0.637037\n",
      "83  [3177948, 3178152)  4.767045e+07  4.767045e+07   18.0    3.0    0.0   15.0    1.200000         0.500000   2.400000   1.474286\n",
      "84  [3178224, 3178602)  1.811689e+08  1.811689e+08   38.0   26.0   26.0   57.0    0.666667         0.363636   1.833333   0.819048\n",
      "85  [3179623, 3179716)  2.543722e+07  2.543722e+07    8.0    0.0    3.0    8.0    1.000000         0.777778   1.285714   1.228571\n",
      "86  [3180908, 3180991)  3.180938e+07  3.180938e+07   10.0    5.0    3.0   10.0    1.000000         1.333333   0.750000   1.228571\n",
      "87  [3181191, 3181279)  9.543666e+06  9.543666e+06    5.0    2.0    0.0    3.0    1.666667         1.600000   1.041667   2.047619\n",
      "88  [3182447, 3182606)  3.819030e+07  3.819030e+07   15.0    4.0    5.0   12.0    1.250000         2.250000   0.555556   1.535714\n",
      "89  [3184201, 3184538)  8.279308e+07  8.279308e+07   21.0    5.0    2.0   26.0    0.807692         0.666667   1.211538   0.992308\n",
      "90  [3184784, 3187608)  5.926282e+08  5.926282e+08   89.0   47.0   15.0  186.0    0.478495         0.571429   0.837366   0.587865\n",
      "91  [3189869, 3189976)  2.551932e+07  2.551932e+07    5.0    0.0    2.0    8.0    0.625000         0.500000   1.250000   0.767857\n",
      "92  [3198001, 3198209)  7.675396e+07  7.675396e+07   28.0   14.0   18.0   24.0    1.166667         2.000000   0.583333   1.433333\n",
      "93  [3200680, 3200992)  8.322128e+07  8.322128e+07   22.0   10.0    9.0   26.0    0.846154         0.000000        inf   1.039560\n",
      "94  [3201329, 3201444)  4.481944e+07  4.481944e+07   24.0    3.0    0.0   14.0    1.714286         0.571429   3.000000   2.106122\n",
      "95  [3201630, 3202014)  1.504850e+08  1.504850e+08   63.0   49.0   11.0   47.0    1.340426         0.700000   1.914894   1.646808\n",
      "96  [3202264, 3203499)  4.035524e+08  4.035524e+08   96.0   35.0   20.0  126.0    0.761905         0.333333   2.285714   0.936054\n",
      "97  [3207989, 3208744)  2.085451e+08  2.085451e+08   68.0   66.0  102.0   65.0    1.046154         0.000000        inf   1.285275\n",
      "98  [3209294, 3209399)  4.172144e+07  4.172144e+07    8.0    1.0    4.0   13.0    0.615385         0.222222   2.769231   0.756044\n",
      "99  [3209871, 3210018)  4.172923e+07  4.172923e+07   12.0    0.0    8.0   13.0    0.923077         1.400000   0.659341   1.134066\n",
      "count    8.362200e+04\n",
      "mean              inf\n",
      "std               NaN\n",
      "min      0.000000e+00\n",
      "25%      7.123716e-01\n",
      "50%      1.444444e+00\n",
      "75%      3.686259e+00\n",
      "max               inf\n",
      "Name: ratio, dtype: float64\n",
      "count    84237.000000\n",
      "mean         1.440274\n",
      "std          0.690988\n",
      "min          0.037802\n",
      "25%          1.005195\n",
      "50%          1.330952\n",
      "75%          1.740476\n",
      "max         60.263819\n",
      "Name: ratio2, dtype: float64\n"
     ]
    }
   ],
   "source": [
    "open[\"ratio\"] = open['TT_S0_norm'] / open['surround_signal']\n",
    "open[\"ratio2\"] = open['TT_S0_norm'] / df_signal_norm\n",
    "\n",
    "print(open[0:100])\n",
    "\n",
    "print(open[\"ratio\"].describe())\n",
    "print(open[\"ratio2\"].describe())"
   ]
  },
  {
   "cell_type": "code",
   "execution_count": null,
   "id": "9e289f2b",
   "metadata": {},
   "outputs": [],
   "source": []
  },
  {
   "cell_type": "code",
   "execution_count": 57,
   "id": "43235ec8",
   "metadata": {},
   "outputs": [
    {
     "name": "stdout",
     "output_type": "stream",
     "text": [
      "57.33333333333333\n",
      "count    83622.000000\n",
      "mean         9.282384\n",
      "std         18.884911\n",
      "min          0.000000\n",
      "25%          0.712372\n",
      "50%          1.444444\n",
      "75%          3.686259\n",
      "max         57.333333\n",
      "Name: ratio, dtype: float64\n"
     ]
    },
    {
     "data": {
      "image/png": "[encoded data removed]",
      "text/plain": [
       "<Figure size 640x480 with 1 Axes>"
      ]
     },
     "metadata": {},
     "output_type": "display_data"
    },
    {
     "data": {
      "image/png": "[encoded data removed]",
      "text/plain": [
       "<Figure size 640x480 with 1 Axes>"
      ]
     },
     "metadata": {},
     "output_type": "display_data"
    }
   ],
   "source": [
    "ratios = open[\"ratio\"].copy()\n",
    "ratios2 = open[\"ratio2\"].copy()\n",
    "\n",
    "new_max = open[open[\"ratio\"] < np.inf][\"ratio\"].max() + 1\n",
    "#new_min = open[open[\"ratio\"] > -np.inf][\"ratio\"].min() - 1\n",
    "\n",
    "#print(new_min)\n",
    "print(new_max)\n",
    "\n",
    "ratios.replace(np.inf, new_max, inplace=True)\n",
    "#ratios.replace(-np.inf, new_min, inplace=True)\n",
    "ratios.dropna()\n",
    "print(ratios.describe())\n",
    "\n",
    "bins = np.arange(0, 50, step=0.5)\n",
    "plt.hist(ratios, bins=bins, range=(0, 50))\n",
    "plt.title(\"Praturtinimo koeficientas 1\")\n",
    "plt.xticks(bins, fontsize = 10)\n",
    "plt.yticks(fontsize = 10)\n",
    "axes = plt.gca()\n",
    "axes.set_ylim([0, 35000])\n",
    "axes.set_xlim([0, 10])\n",
    "plt.show()\n",
    "\n",
    "bins = np.arange(0, 50, step=0.5)\n",
    "plt.hist(ratios2, bins=bins, range=(0, 50))\n",
    "plt.title(\"Praturtinimo koeficientas 2\")\n",
    "plt.xticks(bins, fontsize = 10)\n",
    "plt.yticks(fontsize = 10)\n",
    "axes = plt.gca()\n",
    "axes.set_ylim([0, 35000])\n",
    "axes.set_xlim([0, 10])\n",
    "plt.show()"
   ]
  },
  {
   "cell_type": "code",
   "execution_count": 58,
   "id": "645abf14",
   "metadata": {},
   "outputs": [
    {
     "data": {
      "image/png": "[encoded data removed]",
      "text/plain": [
       "<Figure size 640x480 with 1 Axes>"
      ]
     },
     "metadata": {},
     "output_type": "display_data"
    }
   ],
   "source": [
    "bins = np.arange(0, 20, step=0.1)\n",
    "xbins = np.arange(0, 20, step=1)\n",
    "plt.hist(ratios, bins=bins, range=(0, 20))\n",
    "plt.title(\"Praturtinimo koeficientas\")\n",
    "plt.xticks(xbins, fontsize = 10)\n",
    "axes = plt.gca()\n",
    "axes.set_ylim([0,5000])\n",
    "plt.show()"
   ]
  },
  {
   "cell_type": "code",
   "execution_count": 59,
   "id": "4a60c8c8",
   "metadata": {},
   "outputs": [
    {
     "name": "stdout",
     "output_type": "stream",
     "text": [
      "                   open_bin         start           end  TT_S0  TT_S1  TT_S2  count  TT_S0_norm  surround_signal     ratio    ratio2\n",
      "84232  [90597707, 90597803)  5.435864e+08  5.435864e+08   10.0    0.0    0.0    6.0    1.666667         2.000000  0.833333  2.047619\n",
      "84233  [90598847, 90598959)  6.341921e+08  6.341921e+08    8.0    5.0   17.0    7.0    1.142857         0.333333  3.428571  1.404082\n",
      "84234  [90599512, 90599601)  2.717986e+08  2.717986e+08    5.0    0.0    0.0    3.0    1.666667         3.000000  0.555556  2.047619\n",
      "84235  [90599734, 90599866)  1.087197e+09  1.087197e+09    9.0    2.0    1.0   12.0    0.750000         0.500000  1.500000  0.921429\n",
      "84236  [90600877, 90600955)  6.342063e+08  6.342063e+08    6.0    7.0    3.0    7.0    0.857143         0.500000  1.714286  1.053061\n",
      "       seqnames     start       end        CG_ID  TT_S0  TT_S1  TT_S2  predict_state_SUM  Majority  diffs  lenght  open\n",
      "192139       18  90597707  90597803  18_90597707    8.0    0.0    0.0                 20         1    1.0    97.0  True\n",
      "192141       18  90598847  90598959  18_90598847    0.0    0.0    6.0                 15         1    1.0   113.0  True\n",
      "192145       18  90599512  90599601  18_90599512    0.0    0.0    0.0                 18         1    1.0    90.0  True\n",
      "192147       18  90599734  90599866  18_90599734    0.0    0.0    0.0                 12         1    1.0   133.0  True\n",
      "192149       18  90600877  90600955  18_90600877    0.0    0.0    0.0                 13         1    1.0    79.0  True\n"
     ]
    }
   ],
   "source": [
    "print(open.tail())\n",
    "print(open_regions.tail())"
   ]
  },
  {
   "cell_type": "code",
   "execution_count": 60,
   "id": "46b56d9c",
   "metadata": {},
   "outputs": [],
   "source": [
    "open_regions_plus = open_regions.reset_index()\n",
    "open_regions_plus = open_regions_plus.assign(Ratio = ratios)\n",
    "open_regions_plus = open_regions_plus.assign(Ratio2 = ratios2)"
   ]
  },
  {
   "cell_type": "code",
   "execution_count": 61,
   "id": "d7a0df0a",
   "metadata": {},
   "outputs": [
    {
     "data": {
      "text/plain": [
       "index                11066\n",
       "seqnames             11066\n",
       "start                11066\n",
       "end                  11066\n",
       "CG_ID                11066\n",
       "TT_S0                11066\n",
       "TT_S1                11066\n",
       "TT_S2                11066\n",
       "predict_state_SUM    11066\n",
       "Majority             11066\n",
       "diffs                11066\n",
       "lenght               11066\n",
       "open                 11066\n",
       "Ratio                11066\n",
       "Ratio2               11066\n",
       "dtype: int64"
      ]
     },
     "execution_count": 61,
     "metadata": {},
     "output_type": "execute_result"
    }
   ],
   "source": [
    "open_regions_plus[open_regions_plus['Ratio'] > 57].count()"
   ]
  },
  {
   "cell_type": "code",
   "execution_count": 62,
   "id": "16b8d691",
   "metadata": {},
   "outputs": [
    {
     "name": "stdout",
     "output_type": "stream",
     "text": [
      "0.7560335719458195, 0.15305625793891045, 0.024514168358322354\n",
      "4785\n"
     ]
    }
   ],
   "source": [
    "a = open_regions_plus[open_regions_plus['Ratio2'] > 1]['index'].count()/84237\n",
    "b = open_regions_plus[open_regions_plus['Ratio2'] > 2]['index'].count()/84237\n",
    "c = open_regions_plus[open_regions_plus['Ratio2'] > 3]['index'].count()/84237\n",
    "\n",
    "print(f\"{a}, {b}, {c}\")\n",
    "print(open_regions_plus[open_regions_plus['Ratio2'] > 2.5]['index'].count())"
   ]
  },
  {
   "cell_type": "code",
   "execution_count": 63,
   "id": "6911159d",
   "metadata": {},
   "outputs": [
    {
     "data": {
      "text/html": [
       "<div>\n",
       "<style scoped>\n",
       "    .dataframe tbody tr th:only-of-type {\n",
       "        vertical-align: middle;\n",
       "    }\n",
       "\n",
       "    .dataframe tbody tr th {\n",
       "        vertical-align: top;\n",
       "    }\n",
       "\n",
       "    .dataframe thead th {\n",
       "        text-align: right;\n",
       "    }\n",
       "</style>\n",
       "<table border=\"1\" class=\"dataframe\">\n",
       "  <thead>\n",
       "    <tr style=\"text-align: right;\">\n",
       "      <th></th>\n",
       "      <th>index</th>\n",
       "      <th>seqnames</th>\n",
       "      <th>start</th>\n",
       "      <th>end</th>\n",
       "      <th>CG_ID</th>\n",
       "      <th>TT_S0</th>\n",
       "      <th>TT_S1</th>\n",
       "      <th>TT_S2</th>\n",
       "      <th>predict_state_SUM</th>\n",
       "      <th>Majority</th>\n",
       "      <th>diffs</th>\n",
       "      <th>lenght</th>\n",
       "      <th>open</th>\n",
       "      <th>Ratio</th>\n",
       "      <th>Ratio2</th>\n",
       "    </tr>\n",
       "  </thead>\n",
       "  <tbody>\n",
       "    <tr>\n",
       "      <th>3</th>\n",
       "      <td>7</td>\n",
       "      <td>18</td>\n",
       "      <td>3005107</td>\n",
       "      <td>3005389</td>\n",
       "      <td>18_3005107</td>\n",
       "      <td>1.0</td>\n",
       "      <td>2.0</td>\n",
       "      <td>0.0</td>\n",
       "      <td>20</td>\n",
       "      <td>1</td>\n",
       "      <td>1.0</td>\n",
       "      <td>283.0</td>\n",
       "      <td>True</td>\n",
       "      <td>0.153199</td>\n",
       "      <td>3.387879</td>\n",
       "    </tr>\n",
       "    <tr>\n",
       "      <th>4</th>\n",
       "      <td>9</td>\n",
       "      <td>18</td>\n",
       "      <td>3005448</td>\n",
       "      <td>3006448</td>\n",
       "      <td>18_3005448</td>\n",
       "      <td>0.0</td>\n",
       "      <td>1.0</td>\n",
       "      <td>0.0</td>\n",
       "      <td>13</td>\n",
       "      <td>1</td>\n",
       "      <td>1.0</td>\n",
       "      <td>1001.0</td>\n",
       "      <td>True</td>\n",
       "      <td>57.333333</td>\n",
       "      <td>11.529670</td>\n",
       "    </tr>\n",
       "    <tr>\n",
       "      <th>155</th>\n",
       "      <td>345</td>\n",
       "      <td>18</td>\n",
       "      <td>3264842</td>\n",
       "      <td>3264961</td>\n",
       "      <td>18_3264842</td>\n",
       "      <td>0.0</td>\n",
       "      <td>0.0</td>\n",
       "      <td>0.0</td>\n",
       "      <td>11</td>\n",
       "      <td>1</td>\n",
       "      <td>1.0</td>\n",
       "      <td>120.0</td>\n",
       "      <td>True</td>\n",
       "      <td>0.418750</td>\n",
       "      <td>3.292571</td>\n",
       "    </tr>\n",
       "    <tr>\n",
       "      <th>156</th>\n",
       "      <td>347</td>\n",
       "      <td>18</td>\n",
       "      <td>3265041</td>\n",
       "      <td>3265128</td>\n",
       "      <td>18_3265041</td>\n",
       "      <td>1.0</td>\n",
       "      <td>0.0</td>\n",
       "      <td>5.0</td>\n",
       "      <td>12</td>\n",
       "      <td>1</td>\n",
       "      <td>1.0</td>\n",
       "      <td>88.0</td>\n",
       "      <td>True</td>\n",
       "      <td>0.750185</td>\n",
       "      <td>2.845113</td>\n",
       "    </tr>\n",
       "    <tr>\n",
       "      <th>157</th>\n",
       "      <td>349</td>\n",
       "      <td>18</td>\n",
       "      <td>3265291</td>\n",
       "      <td>3265416</td>\n",
       "      <td>18_3265291</td>\n",
       "      <td>0.0</td>\n",
       "      <td>3.0</td>\n",
       "      <td>1.0</td>\n",
       "      <td>17</td>\n",
       "      <td>1</td>\n",
       "      <td>1.0</td>\n",
       "      <td>126.0</td>\n",
       "      <td>True</td>\n",
       "      <td>0.784355</td>\n",
       "      <td>2.959740</td>\n",
       "    </tr>\n",
       "  </tbody>\n",
       "</table>\n",
       "</div>"
      ],
      "text/plain": [
       "     index seqnames    start      end       CG_ID  TT_S0  TT_S1  TT_S2  predict_state_SUM  Majority  diffs  lenght  open      Ratio     Ratio2\n",
       "3        7       18  3005107  3005389  18_3005107    1.0    2.0    0.0                 20         1    1.0   283.0  True   0.153199   3.387879\n",
       "4        9       18  3005448  3006448  18_3005448    0.0    1.0    0.0                 13         1    1.0  1001.0  True  57.333333  11.529670\n",
       "155    345       18  3264842  3264961  18_3264842    0.0    0.0    0.0                 11         1    1.0   120.0  True   0.418750   3.292571\n",
       "156    347       18  3265041  3265128  18_3265041    1.0    0.0    5.0                 12         1    1.0    88.0  True   0.750185   2.845113\n",
       "157    349       18  3265291  3265416  18_3265291    0.0    3.0    1.0                 17         1    1.0   126.0  True   0.784355   2.959740"
      ]
     },
     "execution_count": 63,
     "metadata": {},
     "output_type": "execute_result"
    }
   ],
   "source": [
    "open_filtered = open_regions_plus[open_regions_plus['Ratio2'] > 2.5]\n",
    "open_filtered.head()"
   ]
  },
  {
   "cell_type": "code",
   "execution_count": 64,
   "id": "49d80cd1",
   "metadata": {},
   "outputs": [
    {
     "data": {
      "text/html": [
       "<div>\n",
       "<style scoped>\n",
       "    .dataframe tbody tr th:only-of-type {\n",
       "        vertical-align: middle;\n",
       "    }\n",
       "\n",
       "    .dataframe tbody tr th {\n",
       "        vertical-align: top;\n",
       "    }\n",
       "\n",
       "    .dataframe thead th {\n",
       "        text-align: right;\n",
       "    }\n",
       "</style>\n",
       "<table border=\"1\" class=\"dataframe\">\n",
       "  <thead>\n",
       "    <tr style=\"text-align: right;\">\n",
       "      <th></th>\n",
       "      <th>Chromosome</th>\n",
       "      <th>Start</th>\n",
       "      <th>End</th>\n",
       "      <th>name</th>\n",
       "      <th>Score</th>\n",
       "      <th>strand</th>\n",
       "    </tr>\n",
       "  </thead>\n",
       "  <tbody>\n",
       "    <tr>\n",
       "      <th>3</th>\n",
       "      <td>18</td>\n",
       "      <td>3005107</td>\n",
       "      <td>3005389</td>\n",
       "      <td>18_3005107</td>\n",
       "      <td>20</td>\n",
       "      <td>.</td>\n",
       "    </tr>\n",
       "    <tr>\n",
       "      <th>4</th>\n",
       "      <td>18</td>\n",
       "      <td>3005448</td>\n",
       "      <td>3006448</td>\n",
       "      <td>18_3005448</td>\n",
       "      <td>13</td>\n",
       "      <td>.</td>\n",
       "    </tr>\n",
       "    <tr>\n",
       "      <th>155</th>\n",
       "      <td>18</td>\n",
       "      <td>3264842</td>\n",
       "      <td>3264961</td>\n",
       "      <td>18_3264842</td>\n",
       "      <td>11</td>\n",
       "      <td>.</td>\n",
       "    </tr>\n",
       "    <tr>\n",
       "      <th>156</th>\n",
       "      <td>18</td>\n",
       "      <td>3265041</td>\n",
       "      <td>3265128</td>\n",
       "      <td>18_3265041</td>\n",
       "      <td>12</td>\n",
       "      <td>.</td>\n",
       "    </tr>\n",
       "    <tr>\n",
       "      <th>157</th>\n",
       "      <td>18</td>\n",
       "      <td>3265291</td>\n",
       "      <td>3265416</td>\n",
       "      <td>18_3265291</td>\n",
       "      <td>17</td>\n",
       "      <td>.</td>\n",
       "    </tr>\n",
       "  </tbody>\n",
       "</table>\n",
       "</div>"
      ],
      "text/plain": [
       "    Chromosome    Start      End        name  Score strand\n",
       "3           18  3005107  3005389  18_3005107     20      .\n",
       "4           18  3005448  3006448  18_3005448     13      .\n",
       "155         18  3264842  3264961  18_3264842     11      .\n",
       "156         18  3265041  3265128  18_3265041     12      .\n",
       "157         18  3265291  3265416  18_3265291     17      ."
      ]
     },
     "execution_count": 64,
     "metadata": {},
     "output_type": "execute_result"
    }
   ],
   "source": [
    "open_filtered_formatted = format_regions(open_filtered)\n",
    "open_filtered_for_bed = open_filtered_formatted.drop(['index', 'TT_S0', 'TT_S1', 'TT_S2', 'width', 'Ratio', 'Ratio2'], axis = 1)\n",
    "open_filtered_for_bed.head()"
   ]
  },
  {
   "cell_type": "code",
   "execution_count": 65,
   "id": "e49023c8",
   "metadata": {},
   "outputs": [],
   "source": [
    "open_filtered_for_bed.to_csv(\"open.bed\", sep='\\t', index=False, header=False)"
   ]
  },
  {
   "cell_type": "code",
   "execution_count": 66,
   "id": "af982df2",
   "metadata": {},
   "outputs": [
    {
     "name": "stdout",
     "output_type": "stream",
     "text": [
      "+-----------+--------------+-----------+-----------+-------------+-------+\n",
      "| index     | Chromosome   | Start     | End       | name        | +8    |\n",
      "| (int64)   | (category)   | (int64)   | (int64)   | (object)    | ...   |\n",
      "|-----------+--------------+-----------+-----------+-------------+-------|\n",
      "| 7         | 18           | 3005107   | 3005389   | 18_3005107  | ...   |\n",
      "| 9         | 18           | 3005448   | 3006448   | 18_3005448  | ...   |\n",
      "| 877       | 18           | 3490784   | 3490981   | 18_3490784  | ...   |\n",
      "| 2233      | 18           | 4097736   | 4098314   | 18_4097736  | ...   |\n",
      "| ...       | ...          | ...       | ...       | ...         | ...   |\n",
      "| 189909    | 18           | 88971564  | 88971840  | 18_88971564 | ...   |\n",
      "| 189911    | 18           | 88971908  | 88972472  | 18_88971908 | ...   |\n",
      "| 190105    | 18           | 89089190  | 89089401  | 18_89089190 | ...   |\n",
      "| 192099    | 18           | 90579385  | 90580098  | 18_90579385 | ...   |\n",
      "+-----------+--------------+-----------+-----------+-------------+-------+\n",
      "Unstranded PyRanges object has 702 rows and 13 columns from 1 chromosomes.\n",
      "For printing, the PyRanges was sorted on Chromosome.\n",
      "8 hidden columns: TT_S0, TT_S1, TT_S2, Score, width, Ratio, Ratio2, strand\n",
      "ILGIS:  633391\n",
      "+-----------+--------------+-----------+-----------+-------------+-------+\n",
      "| index     | Chromosome   | Start     | End       | name        | +8    |\n",
      "| (int64)   | (category)   | (int64)   | (int64)   | (object)    | ...   |\n",
      "|-----------+--------------+-----------+-----------+-------------+-------|\n",
      "| 7         | 18           | 3005165   | 3005389   | 18_3005107  | ...   |\n",
      "| 9         | 18           | 3005785   | 3006003   | 18_3005448  | ...   |\n",
      "| 877       | 18           | 3490852   | 3490981   | 18_3490784  | ...   |\n",
      "| 2233      | 18           | 4097736   | 4097947   | 18_4097736  | ...   |\n",
      "| ...       | ...          | ...       | ...       | ...         | ...   |\n",
      "| 189909    | 18           | 88971564  | 88971840  | 18_88971564 | ...   |\n",
      "| 189911    | 18           | 88971908  | 88972081  | 18_88971908 | ...   |\n",
      "| 190105    | 18           | 89089190  | 89089305  | 18_89089190 | ...   |\n",
      "| 192099    | 18           | 90579394  | 90580098  | 18_90579385 | ...   |\n",
      "+-----------+--------------+-----------+-----------+-------------+-------+\n",
      "Unstranded PyRanges object has 802 rows and 13 columns from 1 chromosomes.\n",
      "For printing, the PyRanges was sorted on Chromosome.\n",
      "8 hidden columns: TT_S0, TT_S1, TT_S2, Score, width, Ratio, Ratio2, strand\n",
      "ILGIS:  228905\n",
      "Jaccard index:  0.3613960413078178\n"
     ]
    }
   ],
   "source": [
    "print_overlaps(open_filtered_formatted, dnaseq_formatted)"
   ]
  },
  {
   "cell_type": "code",
   "execution_count": 67,
   "id": "61dbe16d",
   "metadata": {},
   "outputs": [
    {
     "name": "stdout",
     "output_type": "stream",
     "text": [
      "Medianos\n",
      "167.0\n",
      "\n",
      "Moda\n",
      "0    92.0\n",
      "dtype: float64\n",
      "\n",
      "Vidurkiai\n",
      "347.34420062695926\n",
      "\n",
      "Sumos\n",
      "33565122.0\n",
      "\n",
      "Frakcija\n",
      "0.018320414699334042\n"
     ]
    }
   ],
   "source": [
    "print(\"Medianos\")\n",
    "print(open_filtered[\"lenght\"].median())\n",
    "\n",
    "print(\"\\nModa\")\n",
    "print(open_filtered[\"lenght\"].mode())\n",
    "\n",
    "print(\"\\nVidurkiai\")\n",
    "print(open_filtered[\"lenght\"].mean())\n",
    "\n",
    "print(\"\\nSumos\")\n",
    "sum_filtered = open_filtered[\"lenght\"].sum()\n",
    "print(s1)\n",
    "\n",
    "total_length = df['start']\n",
    "\n",
    "print(\"\\nFrakcija\")\n",
    "print(sum_filtered/CHROMOSOME_18_BP)"
   ]
  },
  {
   "cell_type": "code",
   "execution_count": 68,
   "id": "3e273c54",
   "metadata": {},
   "outputs": [
    {
     "data": {
      "image/png": "[encoded data removed]",
      "text/plain": [
       "<Figure size 800x800 with 1 Axes>"
      ]
     },
     "metadata": {},
     "output_type": "display_data"
    }
   ],
   "source": [
    "draw_circle_graph(sum_filtered, CHROMOSOME_18_BP-sum_filtered, \"PMM modelis su TOP-seq duomenimis - filtruota\")"
   ]
  },
  {
   "cell_type": "code",
   "execution_count": 69,
   "id": "c9c71f01",
   "metadata": {},
   "outputs": [
    {
     "data": {
      "image/png": "[encoded data removed]",
      "text/plain": [
       "<Figure size 800x800 with 1 Axes>"
      ]
     },
     "metadata": {},
     "output_type": "display_data"
    }
   ],
   "source": [
    "draw_circle_graph_notitle(sum_filtered, CHROMOSOME_18_BP-sum_filtered)"
   ]
  },
  {
   "cell_type": "code",
   "execution_count": 80,
   "id": "e6a03b08",
   "metadata": {},
   "outputs": [
    {
     "data": {
      "image/png": "[encoded data removed]",
      "text/plain": [
       "<Figure size 640x480 with 1 Axes>"
      ]
     },
     "metadata": {},
     "output_type": "display_data"
    }
   ],
   "source": [
    "bins = np.arange(0, 2500, step=100)\n",
    "\n",
    "plt.hist(open_filtered[\"lenght\"], bins=bins, range=(-50, 2000))\n",
    "plt.title(\"PMM ir TOP-seq - filtruoti atviro chromatino regionai\")\n",
    "plt.xticks(bins, fontsize = 10, rotation='vertical')\n",
    "plt.yticks(fontsize = 10)\n",
    "\n",
    "axes = plt.gca()\n",
    "axes.set_ylim([0,2000])\n",
    "plt.show()"
   ]
  },
  {
   "cell_type": "code",
   "execution_count": 75,
   "id": "9a02e291",
   "metadata": {},
   "outputs": [
    {
     "data": {
      "image/png": "[encoded data removed]",
      "text/plain": [
       "<Figure size 640x480 with 1 Axes>"
      ]
     },
     "metadata": {},
     "output_type": "display_data"
    }
   ],
   "source": [
    "import numpy as np\n",
    "\n",
    "bins = np.arange(0, 2500, step=100)\n",
    "\n",
    "plt.hist(open_filtered[\"lenght\"], bins=bins, range=(-50, 2000))\n",
    "plt.xticks(bins, fontsize = 10, rotation='vertical')\n",
    "plt.yticks(fontsize = 10)\n",
    "\n",
    "axes = plt.gca()\n",
    "axes.set_ylim([0,2000])\n",
    "plt.show()"
   ]
  },
  {
   "cell_type": "code",
   "execution_count": 72,
   "id": "fbc3a9c0",
   "metadata": {},
   "outputs": [
    {
     "name": "stdout",
     "output_type": "stream",
     "text": [
      "MODE: 0    92.0\n",
      "dtype: float64\n",
      "SUM: 1662042.0\n"
     ]
    },
    {
     "data": {
      "text/plain": [
       "count     4785.000000\n",
       "mean       347.344201\n",
       "std        850.931953\n",
       "min         76.000000\n",
       "25%        110.000000\n",
       "50%        167.000000\n",
       "75%        353.000000\n",
       "max      50072.000000\n",
       "Name: lenght, dtype: float64"
      ]
     },
     "execution_count": 72,
     "metadata": {},
     "output_type": "execute_result"
    }
   ],
   "source": [
    "print(\"MODE:\", open_filtered[\"lenght\"].mode())\n",
    "print(\"SUM:\", open_filtered[\"lenght\"].sum())\n",
    "\n",
    "open_filtered[\"lenght\"].describe()"
   ]
  }
 ],
 "metadata": {
  "kernelspec": {
   "display_name": "Python 3.8.6 64-bit",
   "language": "python",
   "name": "python3"
  },
  "language_info": {
   "codemirror_mode": {
    "name": "ipython",
    "version": 3
   },
   "file_extension": ".py",
   "mimetype": "text/x-python",
   "name": "python",
   "nbconvert_exporter": "python",
   "pygments_lexer": "ipython3",
   "version": "3.8.6"
  },
  "vscode": {
   "interpreter": {
    "hash": "c6b6499402c6386b2bcd89528ffe92375530bfad69de7b78f5d6d7864849ba9e"
   }
  }
 },
 "nbformat": 4,
 "nbformat_minor": 5
}
